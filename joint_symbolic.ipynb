{
 "cells": [
  {
   "cell_type": "code",
   "execution_count": 2,
   "outputs": [
    {
     "name": "stdout",
     "output_type": "stream",
     "text": [
      "Collecting PyQt5\n",
      "  Obtaining dependency information for PyQt5 from https://files.pythonhosted.org/packages/ca/ac/596e8ca16fd0634542d874c0d79219fc527ea7de73a5000092f60ecbf6e9/PyQt5-5.15.10-cp37-abi3-win_amd64.whl.metadata\n",
      "  Downloading PyQt5-5.15.10-cp37-abi3-win_amd64.whl.metadata (2.2 kB)\n",
      "Collecting PyQt5-sip<13,>=12.13 (from PyQt5)\n",
      "  Obtaining dependency information for PyQt5-sip<13,>=12.13 from https://files.pythonhosted.org/packages/8e/e2/d296cb17bae19ba49137a2649934a70d5f48cc99b7daa6ce9cf1aecddfeb/PyQt5_sip-12.13.0-cp311-cp311-win_amd64.whl.metadata\n",
      "  Downloading PyQt5_sip-12.13.0-cp311-cp311-win_amd64.whl.metadata (524 bytes)\n",
      "Collecting PyQt5-Qt5>=5.15.2 (from PyQt5)\n",
      "  Using cached PyQt5_Qt5-5.15.2-py3-none-win_amd64.whl (50.1 MB)\n",
      "Using cached PyQt5-5.15.10-cp37-abi3-win_amd64.whl (6.8 MB)\n",
      "Using cached PyQt5_sip-12.13.0-cp311-cp311-win_amd64.whl (78 kB)\n",
      "Installing collected packages: PyQt5-Qt5, PyQt5-sip, PyQt5\n",
      "Successfully installed PyQt5-5.15.10 PyQt5-Qt5-5.15.2 PyQt5-sip-12.13.0\n"
     ]
    },
    {
     "name": "stderr",
     "output_type": "stream",
     "text": [
      "\n",
      "[notice] A new release of pip is available: 23.2.1 -> 23.3.2\n",
      "[notice] To update, run: python.exe -m pip install --upgrade pip\n"
     ]
    }
   ],
   "source": [
    "!pip install PyQt5"
   ],
   "metadata": {
    "collapsed": false,
    "ExecuteTime": {
     "end_time": "2024-01-08T05:01:03.690873400Z",
     "start_time": "2024-01-08T05:00:57.984537500Z"
    }
   },
   "id": "c02ee99ed70622f4"
  },
  {
   "cell_type": "code",
   "execution_count": 84,
   "outputs": [],
   "source": [
    "import numpy as np\n",
    "import pandas as pd\n",
    "import matplotlib.pyplot as plt\n",
    "import matplotlib as mpl\n",
    "%matplotlib qt\n",
    "import seaborn as sns\n",
    "import os\n",
    "import datetime\n",
    "import xlrd\n",
    "plt.style.use('seaborn-v0_8-ticks')\n",
    "from scipy.signal import find_peaks\n",
    "import itertools\n",
    "from pylab import *"
   ],
   "metadata": {
    "collapsed": false,
    "ExecuteTime": {
     "end_time": "2024-01-22T06:51:34.204226Z",
     "start_time": "2024-01-22T06:51:34.184204100Z"
    }
   },
   "id": "initial_id"
  },
  {
   "cell_type": "markdown",
   "source": [
    "Pobranie danych"
   ],
   "metadata": {
    "collapsed": false
   },
   "id": "140bfd4e6f19443"
  },
  {
   "cell_type": "code",
   "execution_count": 49,
   "outputs": [],
   "source": [
    "folder_path = \"C:\\\\Users\\\\48503\\\\Desktop\\\\joint_symbolic\\\\controlled_breathing\"\n",
    "folders = os.listdir(folder_path)\n",
    "breathing_dict = {folder : {} for folder in folders}\n",
    "\n",
    "for folder_name in folders:\n",
    "    path = os.path.join(folder_path, folder_name)\n",
    "    for file_name in os.listdir(path):\n",
    "        if file_name.endswith('.csv'):\n",
    "         df_name = file_name.split('_ODD')[0]\n",
    "         df = pd.read_csv(os.path.join(path, file_name))\n",
    "         breathing_dict[folder_name][df_name] = df"
   ],
   "metadata": {
    "collapsed": false,
    "ExecuteTime": {
     "end_time": "2024-01-22T03:14:14.873722700Z",
     "start_time": "2024-01-22T03:14:10.180034600Z"
    }
   },
   "id": "af116aed141331b5"
  },
  {
   "cell_type": "markdown",
   "source": [
    "Funkcja konwertująca czas"
   ],
   "metadata": {
    "collapsed": false
   },
   "id": "c00d1febd95b64fd"
  },
  {
   "cell_type": "code",
   "execution_count": 50,
   "outputs": [],
   "source": [
    "def icmp_dateformat_to_datetime(icmp_time_mark):\n",
    "    datetime_date = xlrd.xldate_as_datetime(icmp_time_mark, 0)\n",
    "    datetime_date = datetime_date + datetime.timedelta(hours=1)\n",
    "    return datetime_date"
   ],
   "metadata": {
    "collapsed": false,
    "ExecuteTime": {
     "end_time": "2024-01-22T03:14:16.644847100Z",
     "start_time": "2024-01-22T03:14:16.611584200Z"
    }
   },
   "id": "755a9115f507a083"
  },
  {
   "cell_type": "markdown",
   "source": [
    "Sprawdzenie procentu brakujących wartości w kolumnach z ecg i abp"
   ],
   "metadata": {
    "collapsed": false
   },
   "id": "8b386b8200461737"
  },
  {
   "cell_type": "code",
   "execution_count": null,
   "outputs": [],
   "source": [
    "nan_dict = {breath_freq : {} for breath_freq in breathing_dict}\n",
    "for breath_freq in breathing_dict:\n",
    "    for df_name, df in breathing_dict[breath_freq].items():\n",
    "        nan_dict[breath_freq][df_name] = {}\n",
    "        for col in ['abp_arm[abp_arm]', 'ekg[ekg]']:\n",
    "           nan_percent = df[col].isnull().sum() * 100 / len(df)\n",
    "           nan_dict[breath_freq][df_name][col[:3]] = round(nan_percent, 2)\n",
    "nan_df = pd.DataFrame(nan_dict).T\n",
    "nan_df"
   ],
   "metadata": {
    "collapsed": false
   },
   "id": "12bf27ead385850"
  },
  {
   "cell_type": "markdown",
   "source": [
    "Dodanie kolumny z datą i godziną do każdego dataframe i wypełnienie braków danych (NaN) wartościami średnimi"
   ],
   "metadata": {
    "collapsed": false
   },
   "id": "2ae9c36f7422a737"
  },
  {
   "cell_type": "code",
   "execution_count": 52,
   "outputs": [],
   "source": [
    "for breath_freq in breathing_dict:\n",
    "    for df_name, df in breathing_dict[breath_freq].items():\n",
    "               df['DateFormat'] = df['DateTime'].map(icmp_dateformat_to_datetime)\n",
    "               df.fillna(df.mean(), inplace=True)"
   ],
   "metadata": {
    "collapsed": false,
    "ExecuteTime": {
     "end_time": "2024-01-22T03:16:56.141692700Z",
     "start_time": "2024-01-22T03:16:44.072611700Z"
    }
   },
   "id": "eddbc130ab38b435"
  },
  {
   "cell_type": "markdown",
   "source": [
    "Funkcja znajdująca piki, diff to jest RR w przypadku ECG tylko trzeba je przemnożyć przez 0.005 (1/(200 Hz)), peaks to numery próbek odpowiadających pikom, signal[peaks] to wartości sygnału odpowiadające tym numerom próbek"
   ],
   "metadata": {
    "collapsed": false
   },
   "id": "bed589386ec74b8"
  },
  {
   "cell_type": "code",
   "execution_count": 53,
   "outputs": [],
   "source": [
    "def get_peaks(signal):\n",
    "    dist = 115\n",
    "    peaks, _ = find_peaks(signal, distance=dist)\n",
    "    difference = np.diff(peaks)  \n",
    "    return peaks, signal[peaks], difference"
   ],
   "metadata": {
    "collapsed": false,
    "ExecuteTime": {
     "end_time": "2024-01-22T03:17:00.110746700Z",
     "start_time": "2024-01-22T03:17:00.102630100Z"
    }
   },
   "id": "34ca7bfc8fc6b549"
  },
  {
   "cell_type": "markdown",
   "source": [
    "Wyrysowanie 600 pierwszych próbek każdego sygnału z zaznaczonymi znalezionymi pikami (\"x\")"
   ],
   "metadata": {
    "collapsed": false
   },
   "id": "18427c456e0d3403"
  },
  {
   "cell_type": "code",
   "execution_count": 79,
   "outputs": [],
   "source": [
    "folder_path = \"C:\\\\Users\\\\48503\\\\Desktop\\\\joint_symbolic\\\\timeseries_plots\"\n",
    "for breath_freq in breathing_dict:\n",
    "    for df_name, df in breathing_dict[breath_freq].items():       \n",
    "        fig, ax = plt.subplots(2, 1, tight_layout = True, figsize=(16, 20)) \n",
    "        for i, col in enumerate(['abp_arm[abp_arm]', 'ekg[ekg]']):\n",
    "           x = df[col].iloc[:600]\n",
    "           ax[i].plot(x)\n",
    "           my_peaks = get_peaks(x)\n",
    "           ax[i].plot(my_peaks[0], my_peaks[1], \"x\")\n",
    "           ax[i].set_ylabel(f'{col}', fontsize=25)\n",
    "           ax[i].tick_params(axis='both', labelsize=18)\n",
    "           ax[i].grid(True)\n",
    "        ax[1].set_xlabel(\"nr probki\", fontsize = 28)\n",
    "        path = folder_path+f\"\\\\{breath_freq}\\\\{df_name}_plot.pdf\"\n",
    "        plt.savefig(path, bbox_inches='tight', dpi=600)\n",
    "        plt.show()\n",
    "        plt.close()"
   ],
   "metadata": {
    "collapsed": false,
    "ExecuteTime": {
     "end_time": "2024-01-09T02:43:26.100972400Z",
     "start_time": "2024-01-09T02:43:04.306597800Z"
    }
   },
   "id": "6e2898e68dd410cf"
  },
  {
   "cell_type": "code",
   "execution_count": 54,
   "outputs": [],
   "source": [
    "N_PATIENTS = 15"
   ],
   "metadata": {
    "collapsed": false,
    "ExecuteTime": {
     "end_time": "2024-01-22T03:17:11.233965200Z",
     "start_time": "2024-01-22T03:17:11.208513400Z"
    }
   },
   "id": "f2c2839cf1487816"
  },
  {
   "cell_type": "code",
   "execution_count": 55,
   "outputs": [],
   "source": [
    "def make_empty_matrix():\n",
    "    MY_PERMUTATIONS = [''.join(map(str, item)) for item in list((itertools.product([1, 0], repeat=3)))]\n",
    "    my_matrix = pd.DataFrame()\n",
    "    for col1 in MY_PERMUTATIONS: \n",
    "       for col2 in MY_PERMUTATIONS:\n",
    "            my_matrix.at[col1, col2] = 0\n",
    "    return my_matrix"
   ],
   "metadata": {
    "collapsed": false,
    "ExecuteTime": {
     "end_time": "2024-01-22T03:17:13.798194300Z",
     "start_time": "2024-01-22T03:17:13.768708900Z"
    }
   },
   "id": "c3c5d37c5889b8a8"
  },
  {
   "cell_type": "code",
   "execution_count": 56,
   "outputs": [],
   "source": [
    "def get_diff_df(dataframe):\n",
    "    sap = get_peaks(dataframe['abp_arm[abp_arm]'])[1]\n",
    "    rr = get_peaks(dataframe['ekg[ekg]'])[2]*0.005\n",
    "    sap_diff = np.diff(sap)\n",
    "    rr_diff = np.diff(rr)\n",
    "    diff_dataframe = pd.DataFrame(list(zip(sap_diff, rr_diff)), columns=['sap_diff', 'rr_diff'])\n",
    "    return diff_dataframe"
   ],
   "metadata": {
    "collapsed": false,
    "ExecuteTime": {
     "end_time": "2024-01-22T03:17:18.706328500Z",
     "start_time": "2024-01-22T03:17:18.675918100Z"
    }
   },
   "id": "d68c0791626f7d52"
  },
  {
   "cell_type": "code",
   "execution_count": 65,
   "outputs": [],
   "source": [
    "def make_and_save_heatmap(relative_array, breath_frequency):\n",
    "    my_custom_palette = sns.color_palette(\"ch:-.24\", as_cmap=True)\n",
    "    heatmap_path = f\"C:\\\\Users\\\\48503\\\\Desktop\\\\joint_symbolic\\\\heatmaps\\\\\"\n",
    "    my_heatmap = sns.heatmap(relative_array,cmap = my_custom_palette, annot=True)\n",
    "    my_heatmap.xaxis.tick_top()\n",
    "    my_heatmap.xaxis.set_ticks_position('none')\n",
    "    fontsize = 10\n",
    "    plt.xlabel('SAP', fontsize = fontsize) \n",
    "    my_heatmap.xaxis.set_label_position('top') \n",
    "    plt.ylabel('RR', fontsize = fontsize) \n",
    "    plt.savefig(heatmap_path+f\"{breath_frequency}_heatmap.pdf\", bbox_inches='tight', dpi=600)\n",
    "    relative_array.to_csv(heatmap_path+f\"{breath_frequency}_matrix.csv\")\n",
    "    plt.show()\n",
    "    plt.close()"
   ],
   "metadata": {
    "collapsed": false,
    "ExecuteTime": {
     "end_time": "2024-01-22T03:54:44.661311600Z",
     "start_time": "2024-01-22T03:54:44.633897Z"
    }
   },
   "id": "35b003b09ae81c1c"
  },
  {
   "cell_type": "code",
   "execution_count": 78,
   "outputs": [],
   "source": [
    "def joint_symbolic(data_dict):\n",
    "    jsd_sym_dict, jsd_diam_dict = {freq:{} for freq in data_dict},{freq:{} for freq in data_dict}\n",
    "    for freq in data_dict:\n",
    "        freq_matrix = make_empty_matrix()\n",
    "        for name, dataframe in data_dict[freq].items():\n",
    "            patient_freq_matrix = make_empty_matrix()\n",
    "            diff_df = get_diff_df(dataframe)\n",
    "            \n",
    "            for col_name in ['sap_diff', 'rr_diff']:\n",
    "                diff_df[f'{col_name}_binary'] = diff_df.apply(lambda row: 1 if row[col_name] > 0 else 0, axis = 1)\n",
    "            \n",
    "            for index in range(0, len(diff_df)):\n",
    "                binary_sap =  ''.join(diff_df['sap_diff_binary'].iloc[index:index+3].astype(str))\n",
    "                binary_rr =  ''.join(diff_df['rr_diff_binary'].iloc[index:index+3].astype(str))\n",
    "                if len(binary_rr) > 2 and len(binary_sap) > 2:\n",
    "                     freq_matrix.at[binary_rr, binary_sap] += 1\n",
    "                     patient_freq_matrix[binary_rr][binary_sap] += 1 \n",
    "            \n",
    "            relative_patient_matrix = patient_freq_matrix.div(np.sum(patient_freq_matrix.values))   \n",
    "            jsd_sym_dict[freq][name] = np.sum(np.diag(relative_patient_matrix))\n",
    "            jsd_diam_dict[freq][name] = np.sum(np.diag(np.rot90(relative_patient_matrix)))\n",
    "            \n",
    "        relative_freq_matrix = freq_matrix.div(np.sum(freq_matrix.values))        \n",
    "        make_and_save_heatmap(relative_freq_matrix, freq)\n",
    "        \n",
    "    jsd_path = \"C:\\\\Users\\\\48503\\\\Desktop\\\\joint_symbolic\\\\jsd\\\\\"\n",
    "    pd.DataFrame(jsd_sym_dict).to_csv(jsd_path+\"jsd_sym.csv\")\n",
    "    pd.DataFrame(jsd_diam_dict).to_csv(jsd_path+\"jsd_diam.csv\")"
   ],
   "metadata": {
    "collapsed": false,
    "ExecuteTime": {
     "end_time": "2024-01-22T04:13:26.699186400Z",
     "start_time": "2024-01-22T04:13:26.676501200Z"
    }
   },
   "id": "f26ca0b6637722ee"
  },
  {
   "cell_type": "code",
   "execution_count": 79,
   "outputs": [],
   "source": [
    "joint_symbolic(breathing_dict)"
   ],
   "metadata": {
    "collapsed": false,
    "ExecuteTime": {
     "end_time": "2024-01-22T04:13:37.318923700Z",
     "start_time": "2024-01-22T04:13:28.567278200Z"
    }
   },
   "id": "8b57907659ac3fda"
  },
  {
   "cell_type": "code",
   "execution_count": 101,
   "outputs": [],
   "source": [
    "path = \"C:\\\\Users\\\\48503\\\\Desktop\\\\joint_symbolic\\\\heatmaps\"\n",
    "for file_name in os.listdir(path):\n",
    "   if file_name.endswith('.csv'):\n",
    "      df = pd.read_csv(path+f\"\\\\{file_name}\", index_col='Unnamed: 0')\n",
    "      x_labels = list(df.columns)\n",
    "      y_labels = list(df.columns)\n",
    "      x, y = np.meshgrid(range(len(x_labels)), range(len(y_labels)))\n",
    "      Z = df.values\n",
    "      fig = plt.figure()\n",
    "      ax = fig.add_subplot(111, projection='3d')\n",
    "      ax.bar3d(x.ravel(), y.ravel(), 0, 1, 1, Z.ravel(), shade=False)\n",
    "      ax.view_init(elev=30, azim=-60)\n",
    "      ax.set_xticks(range(len(x_labels)))\n",
    "      ax.set_xlim(0, len(x_labels))\n",
    "      ax.set_xticklabels(x_labels) \n",
    "      ax.set_yticks(range(1, len(y_labels)+1))\n",
    "      ax.set_yticklabels(y_labels) \n",
    "      ax.set_xlabel('RR')\n",
    "      ax.set_ylabel('SAP')\n",
    "      ax.set_zlabel('czestotliwosc')\n",
    "      plt.savefig(path+f\"\\\\{file_name.split('_matrix')[0]}_bar3d.pdf\", bbox_inches='tight', dpi=600)\n",
    "      plt.show()\n",
    "      plt.close()"
   ],
   "metadata": {
    "collapsed": false,
    "ExecuteTime": {
     "end_time": "2024-01-22T07:53:43.565899100Z",
     "start_time": "2024-01-22T07:53:42.758384200Z"
    }
   },
   "id": "f4fa78143d6f6aef"
  },
  {
   "cell_type": "code",
   "execution_count": null,
   "outputs": [],
   "source": [],
   "metadata": {
    "collapsed": false
   },
   "id": "4981ca2cf4c997ab"
  }
 ],
 "metadata": {
  "kernelspec": {
   "display_name": "Python 3",
   "language": "python",
   "name": "python3"
  },
  "language_info": {
   "codemirror_mode": {
    "name": "ipython",
    "version": 2
   },
   "file_extension": ".py",
   "mimetype": "text/x-python",
   "name": "python",
   "nbconvert_exporter": "python",
   "pygments_lexer": "ipython2",
   "version": "2.7.6"
  }
 },
 "nbformat": 4,
 "nbformat_minor": 5
}
