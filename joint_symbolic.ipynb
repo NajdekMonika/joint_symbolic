{
 "cells": [
  {
   "cell_type": "code",
   "execution_count": 2,
   "outputs": [
    {
     "name": "stdout",
     "output_type": "stream",
     "text": [
      "Collecting PyQt5\n",
      "  Obtaining dependency information for PyQt5 from https://files.pythonhosted.org/packages/ca/ac/596e8ca16fd0634542d874c0d79219fc527ea7de73a5000092f60ecbf6e9/PyQt5-5.15.10-cp37-abi3-win_amd64.whl.metadata\n",
      "  Downloading PyQt5-5.15.10-cp37-abi3-win_amd64.whl.metadata (2.2 kB)\n",
      "Collecting PyQt5-sip<13,>=12.13 (from PyQt5)\n",
      "  Obtaining dependency information for PyQt5-sip<13,>=12.13 from https://files.pythonhosted.org/packages/8e/e2/d296cb17bae19ba49137a2649934a70d5f48cc99b7daa6ce9cf1aecddfeb/PyQt5_sip-12.13.0-cp311-cp311-win_amd64.whl.metadata\n",
      "  Downloading PyQt5_sip-12.13.0-cp311-cp311-win_amd64.whl.metadata (524 bytes)\n",
      "Collecting PyQt5-Qt5>=5.15.2 (from PyQt5)\n",
      "  Using cached PyQt5_Qt5-5.15.2-py3-none-win_amd64.whl (50.1 MB)\n",
      "Using cached PyQt5-5.15.10-cp37-abi3-win_amd64.whl (6.8 MB)\n",
      "Using cached PyQt5_sip-12.13.0-cp311-cp311-win_amd64.whl (78 kB)\n",
      "Installing collected packages: PyQt5-Qt5, PyQt5-sip, PyQt5\n",
      "Successfully installed PyQt5-5.15.10 PyQt5-Qt5-5.15.2 PyQt5-sip-12.13.0\n"
     ]
    },
    {
     "name": "stderr",
     "output_type": "stream",
     "text": [
      "\n",
      "[notice] A new release of pip is available: 23.2.1 -> 23.3.2\n",
      "[notice] To update, run: python.exe -m pip install --upgrade pip\n"
     ]
    }
   ],
   "source": [
    "!pip install PyQt5"
   ],
   "metadata": {
    "collapsed": false,
    "ExecuteTime": {
     "end_time": "2024-01-08T05:01:03.690873400Z",
     "start_time": "2024-01-08T05:00:57.984537500Z"
    }
   },
   "id": "c02ee99ed70622f4"
  },
  {
   "cell_type": "code",
   "execution_count": 1,
   "outputs": [],
   "source": [
    "import numpy as np\n",
    "import pandas as pd\n",
    "import matplotlib.pyplot as plt\n",
    "import matplotlib as mpl\n",
    "%matplotlib qt\n",
    "import seaborn as sns\n",
    "import os\n",
    "from os import path\n",
    "import datetime\n",
    "import xlrd\n",
    "plt.style.use('seaborn-v0_8-ticks')\n",
    "from scipy.signal import find_peaks\n",
    "import itertools\n",
    "from pylab import *\n",
    "import csv"
   ],
   "metadata": {
    "collapsed": false,
    "ExecuteTime": {
     "end_time": "2024-02-22T08:55:14.222569800Z",
     "start_time": "2024-02-22T08:55:14.087725300Z"
    }
   },
   "id": "initial_id"
  },
  {
   "cell_type": "markdown",
   "source": [
    "Pobieranie zestawu danych"
   ],
   "metadata": {
    "collapsed": false
   },
   "id": "30ee3ea725ca1572"
  },
  {
   "cell_type": "code",
   "execution_count": null,
   "outputs": [],
   "source": [
    "folder_path_15 = \"C:\\\\Users\\\\48503\\\\Desktop\\\\joint_symbolic\\\\controlled_breathing\"\n",
    "folders_15 = os.listdir(folder_path_15)\n",
    "breathing_dict_15 = {folder : {} for folder in folders_15}\n",
    "\n",
    "for folder_name in folders_15:\n",
    "    path = os.path.join(folder_path_15, folder_name)\n",
    "    for file_name in os.listdir(path):\n",
    "        if file_name.endswith('.csv'):\n",
    "         df_name = file_name.split('_ODD')[0]\n",
    "         df = pd.read_csv(os.path.join(path, file_name))\n",
    "         breathing_dict_15[folder_name][df_name] = df"
   ],
   "metadata": {
    "collapsed": false
   },
   "id": "5d0bc73ce08d5432"
  },
  {
   "cell_type": "markdown",
   "source": [
    "Pobranie zestawu danych, gdzie występują dwa typy plików csv"
   ],
   "metadata": {
    "collapsed": false
   },
   "id": "140bfd4e6f19443"
  },
  {
   "cell_type": "code",
   "execution_count": 3,
   "outputs": [],
   "source": [
    "folder_path_56 = \"C:\\\\Users\\\\48503\\\\Desktop\\\\joint_symbolic\\\\controlled_breathing_full2\"\n",
    "folders_56 = os.listdir(folder_path_56)\n",
    "breathing_dict_56 = {folder : {} for folder in folders_56}\n",
    "\n",
    "for folder_name in folders_56:\n",
    "    folder_path = os.path.join(folder_path_56, folder_name)\n",
    "    for file_name in os.listdir(folder_path):\n",
    "        if file_name.endswith('.csv'):\n",
    "          df_name = file_name.split('PAC_')[1].split('_')[0] #id to numer pacjenta pobrany z nazwy pliku\n",
    "          file_path = os.path.join(folder_path, file_name)\n",
    "          csv_file = open(file_path, 'r')\n",
    "          try:\n",
    "              dialect = csv.Sniffer().sniff(csv_file.readline(), ';')   \n",
    "          except:\n",
    "              dialect = csv.Sniffer().sniff(csv_file.readline(), ',')   \n",
    "          csv_file.seek(0)\n",
    "          df = pd.read_csv(file_path, on_bad_lines='skip', sep=dialect.delimiter)\n",
    "          if dialect.delimiter == \";\":\n",
    "              for row in df:\n",
    "                  df[row] = df[row].str.replace(',','.').astype(float)\n",
    "          breathing_dict_56[folder_name][df_name] = df"
   ],
   "metadata": {
    "collapsed": false,
    "ExecuteTime": {
     "end_time": "2024-02-05T02:29:03.542894200Z",
     "start_time": "2024-02-05T02:28:34.380057Z"
    }
   },
   "id": "af116aed141331b5"
  },
  {
   "cell_type": "markdown",
   "source": [
    "Pobranie danych z bazy 37 plików, gdzie id pacjenta to numer z nazwy folderu \"ochotnik\"; można też pobrać id jako numer z nazwy folderu + 56 w przypadku integracji obu baz (df_name = str(int(folder_name.split('OCHOTNIK_')[1].split('_')[0]) + 56)), żeby numery id się nie powtarzały"
   ],
   "metadata": {
    "collapsed": false
   },
   "id": "b6cb8c1f04215dee"
  },
  {
   "cell_type": "code",
   "execution_count": 35,
   "outputs": [
    {
     "name": "stderr",
     "output_type": "stream",
     "text": [
      "C:\\Users\\48503\\AppData\\Local\\Temp\\ipykernel_21888\\2752246935.py:26: DtypeWarning: Columns (3,13) have mixed types. Specify dtype option on import or set low_memory=False.\n",
      "  my_df = pd.read_csv(file_path, encoding='latin-1', decimal=decimal_map[dialect.delimiter], on_bad_lines='skip', sep=dialect.delimiter)\n"
     ]
    }
   ],
   "source": [
    "folder_path_37 = \"C:\\\\Users\\\\48503\\\\Desktop\\\\joint_symbolic\\\\CONTROL_BREATHING_RECORDINGS\"\n",
    "breathing_dict_keys = ['6_breaths', '10_breaths', '15_breaths', 'baseline']\n",
    "breathing_dict_37 = {frequency:{} for frequency in breathing_dict_keys}\n",
    "folders_37 = os.listdir(folder_path_37)\n",
    "\n",
    "for folder_name in folders_37:\n",
    "    folder_path = os.path.join(folder_path_37, folder_name)\n",
    "    df_number = folder_name.split('OCHOTNIK_')[1].split('_')[0] \n",
    "    for next_folder_name in os.listdir(folder_path):\n",
    "        try:\n",
    "           breathing_frequency = next_folder_name.split('CLEAN_DATA')[1].lower()[1:]\n",
    "        except:\n",
    "            breathing_frequency = \"RAW_DATA\"\n",
    "        if breathing_frequency in breathing_dict_37:\n",
    "            next_folder_path = os.path.join(folder_path, next_folder_name)\n",
    "            for file_name in os.listdir(next_folder_path):\n",
    "                if file_name.endswith('.csv'): \n",
    "                    file_path = os.path.join(next_folder_path, file_name)\n",
    "                    csv_file = open(file_path, 'r')\n",
    "                    try:\n",
    "                        dialect = csv.Sniffer().sniff(csv_file.readline(), ';')   \n",
    "                    except:\n",
    "                        dialect = csv.Sniffer().sniff(csv_file.readline(), ',')      \n",
    "                    csv_file.seek(0)\n",
    "                    decimal_map = {\";\" : \",\", \",\" : \".\"}\n",
    "                    my_df = pd.read_csv(file_path, encoding='latin-1', decimal=decimal_map[dialect.delimiter], on_bad_lines='skip', sep=dialect.delimiter)\n",
    "                    breathing_dict_37[breathing_frequency][df_number] = my_df"
   ],
   "metadata": {
    "collapsed": false,
    "ExecuteTime": {
     "end_time": "2024-02-22T13:31:12.925477500Z",
     "start_time": "2024-02-22T13:30:59.313988500Z"
    }
   },
   "id": "87ff58081c7ed198"
  },
  {
   "cell_type": "markdown",
   "source": [
    "Jeden plik ma błędy w wierszach powyżej indeksu 26966 oraz mieszane kolumny, żeby przerobić kolumny typu object (z przecinkami) na float (z kropkami) trzeba usunąć błędne wiersze (w podglądzie są one i tak puste):"
   ],
   "metadata": {
    "collapsed": false
   },
   "id": "4ec95b31565233ee"
  },
  {
   "cell_type": "code",
   "execution_count": null,
   "outputs": [],
   "source": [
    "breathing_dict_37[\"10_breaths\"][\"3\"].iloc[26966]"
   ],
   "metadata": {
    "collapsed": false
   },
   "id": "eb96737aeee53038"
  },
  {
   "cell_type": "code",
   "execution_count": 36,
   "outputs": [],
   "source": [
    "breathing_dict_37[\"10_breaths\"][\"3\"] = breathing_dict_37[\"10_breaths\"][\"3\"][breathing_dict_37[\"10_breaths\"][\"3\"].index < 26967] \n",
    "breathing_dict_37[\"10_breaths\"][\"3\"] = breathing_dict_37[\"10_breaths\"][\"3\"].drop('hbr_s1_d1[umol/L]', axis=1)\n",
    "obj_cols = breathing_dict_37[\"10_breaths\"][\"3\"].select_dtypes(include=['object']).apply(lambda col: col.apply(lambda item: float(item.replace(',', '.'))))\n",
    "breathing_dict_37[\"10_breaths\"][\"3\"][obj_cols.columns] = obj_cols"
   ],
   "metadata": {
    "collapsed": false,
    "ExecuteTime": {
     "end_time": "2024-02-22T13:31:16.776444900Z",
     "start_time": "2024-02-22T13:31:16.716082900Z"
    }
   },
   "id": "cc715139c92e83a1"
  },
  {
   "cell_type": "code",
   "execution_count": null,
   "outputs": [],
   "source": [
    "breathing_dict_37[\"10_breaths\"][\"3\"].tail()"
   ],
   "metadata": {
    "collapsed": false
   },
   "id": "a1c8cbc6b630dd32"
  },
  {
   "cell_type": "markdown",
   "source": [
    "Połączenie bazy 37 i 56 plików w jedną"
   ],
   "metadata": {
    "collapsed": false
   },
   "id": "aee7af85a3ff5404"
  },
  {
   "cell_type": "code",
   "execution_count": null,
   "outputs": [],
   "source": [],
   "metadata": {
    "collapsed": false
   },
   "id": "7e6163391616c9da"
  },
  {
   "cell_type": "markdown",
   "source": [
    "Sprawdzenie nazw kolumn w plikach"
   ],
   "metadata": {
    "collapsed": false
   },
   "id": "c43919a5a3a2c948"
  },
  {
   "cell_type": "code",
   "execution_count": 38,
   "outputs": [],
   "source": [
    "def check_column_names(breathing_dict):\n",
    "    for breath_frequency in breathing_dict:\n",
    "        for patient_nr, patient_df in breathing_dict[breath_frequency].items(): \n",
    "            print(patient_df.columns)                "
   ],
   "metadata": {
    "collapsed": false,
    "ExecuteTime": {
     "end_time": "2024-02-22T13:31:24.482253900Z",
     "start_time": "2024-02-22T13:31:24.476718800Z"
    }
   },
   "id": "a80d978185bd0d8e"
  },
  {
   "cell_type": "code",
   "execution_count": null,
   "outputs": [],
   "source": [
    "check_column_names(breathing_dict_56)"
   ],
   "metadata": {
    "collapsed": false
   },
   "id": "6f23c827bd316237"
  },
  {
   "cell_type": "code",
   "execution_count": null,
   "outputs": [],
   "source": [
    "check_column_names(breathing_dict_37)"
   ],
   "metadata": {
    "collapsed": false
   },
   "id": "d1b64ac974b927a9"
  },
  {
   "cell_type": "code",
   "execution_count": 40,
   "outputs": [],
   "source": [
    "def how_many_have_ecg(breathing_dict):\n",
    "    for breath_frequency in breathing_dict:\n",
    "        ecg_number = 0\n",
    "        patients_with_ecg = []\n",
    "        for patient_nr, patient_df in breathing_dict[breath_frequency].items(): \n",
    "            if \"ecg\" in patient_df.columns:\n",
    "                ecg_number += 1\n",
    "                patients_with_ecg.append(patient_nr)\n",
    "        print(f\"Liczba osób z ECG dla częstotliwości {breath_frequency}: {ecg_number}\")  \n",
    "        print(f\"Numery osób z ECG dla częstotliwości {breath_frequency}: {patients_with_ecg} \\n\")"
   ],
   "metadata": {
    "collapsed": false,
    "ExecuteTime": {
     "end_time": "2024-02-22T13:31:31.710509500Z",
     "start_time": "2024-02-22T13:31:31.703552100Z"
    }
   },
   "id": "1d24076418ef8714"
  },
  {
   "cell_type": "code",
   "execution_count": null,
   "outputs": [],
   "source": [
    "how_many_have_ecg(breathing_dict_37)"
   ],
   "metadata": {
    "collapsed": false
   },
   "id": "2ab34d501e282309"
  },
  {
   "cell_type": "markdown",
   "source": [
    "Zamiana nazw kolumn na jednolite\n",
    "\"fv_r[]\", \"fv_r[fv_r]\" -> \"fv_r\"\n",
    "\"fv_l[]\", \"fv_r[fv_l]\" -> \"fv_l\"\n",
    "\"ekg[]\", \"ekg[ekg]\" -> \"ekg\"\n",
    "\"abp_arm[mm_Hg]\", \"abp_arm[abp_arm]\" -> \"abp_arm\""
   ],
   "metadata": {
    "collapsed": false
   },
   "id": "5a915c88bbf3cba4"
  },
  {
   "cell_type": "code",
   "execution_count": 42,
   "outputs": [],
   "source": [
    "def unify_column_names(breathing_dict):\n",
    "    column_names_map = {\"fv_r[]\":\"fv_r\", \"fv_r[fv_r]\":\"fv_r\", \"fvr\":\"fv_r\", \"fv_l[]\":\"fv_l\", \n",
    "                    \"fv_l[fv_l]\":\"fv_l\", \"fvl\":\"fv_l\", \"ekg[]\":\"ekg\", \"ekg[ekg]\":\"ekg\", \"ecg\":\"ekg\", \"abp_arm[mm_Hg]\":\"abp_arm\", \"abp_arm[abp_arm]\":\"abp_arm\", \"abp_cnap[mmHg]\":\"abp_arm\", \"etco2[mmHg]\":\"etco2\"}\n",
    "    for breath_frequency in breathing_dict:\n",
    "        for patient_nr, patient_df in breathing_dict[breath_frequency].items(): \n",
    "            patient_df.rename(columns=column_names_map, inplace=True)"
   ],
   "metadata": {
    "collapsed": false,
    "ExecuteTime": {
     "end_time": "2024-02-22T13:31:40.554392500Z",
     "start_time": "2024-02-22T13:31:40.534003600Z"
    }
   },
   "id": "5d22b660cff7ffba"
  },
  {
   "cell_type": "code",
   "execution_count": 43,
   "outputs": [],
   "source": [
    "unify_column_names(breathing_dict_37)"
   ],
   "metadata": {
    "collapsed": false,
    "ExecuteTime": {
     "end_time": "2024-02-22T13:31:43.831116200Z",
     "start_time": "2024-02-22T13:31:43.801996200Z"
    }
   },
   "id": "36b87bf79e12045d"
  },
  {
   "cell_type": "markdown",
   "source": [
    "Sprawdzenie nazw kolumn w plikach po raz drugi"
   ],
   "metadata": {
    "collapsed": false
   },
   "id": "5ab7d3cbc7dd8735"
  },
  {
   "cell_type": "code",
   "execution_count": null,
   "outputs": [],
   "source": [
    "check_column_names(breathing_dict_56)"
   ],
   "metadata": {
    "collapsed": false
   },
   "id": "e3a9989382a76006"
  },
  {
   "cell_type": "code",
   "execution_count": null,
   "outputs": [],
   "source": [
    "check_column_names(breathing_dict_37)"
   ],
   "metadata": {
    "collapsed": false
   },
   "id": "2bb9741d321b221e"
  },
  {
   "cell_type": "markdown",
   "source": [
    "Funkcja konwertująca czas"
   ],
   "metadata": {
    "collapsed": false
   },
   "id": "c00d1febd95b64fd"
  },
  {
   "cell_type": "code",
   "execution_count": 45,
   "outputs": [],
   "source": [
    "def icmp_dateformat_to_datetime(icmp_time_mark):\n",
    "    datetime_date = xlrd.xldate_as_datetime(icmp_time_mark, 0)\n",
    "    datetime_date = datetime_date + datetime.timedelta(hours=1)\n",
    "    return datetime_date"
   ],
   "metadata": {
    "collapsed": false,
    "ExecuteTime": {
     "end_time": "2024-02-22T13:31:50.821961Z",
     "start_time": "2024-02-22T13:31:50.815429700Z"
    }
   },
   "id": "755a9115f507a083"
  },
  {
   "cell_type": "markdown",
   "source": [
    "Sprawdzenie procentu brakujących wartości w kolumnach z ecg, abp, fv oraz etco2"
   ],
   "metadata": {
    "collapsed": false
   },
   "id": "8b386b8200461737"
  },
  {
   "cell_type": "code",
   "execution_count": 46,
   "outputs": [],
   "source": [
    "def print_nan_percent(breathing_dict):\n",
    "    nan_dict = {breath_frequency : {} for breath_frequency in breathing_dict}\n",
    "    for breath_frequency in breathing_dict:\n",
    "        for patient_nr, patient_df in breathing_dict[breath_frequency].items():\n",
    "            nan_string = \"\"\n",
    "            for col_name in ['abp_arm', 'ekg', 'fv_r', 'fv_l', 'etco2']:\n",
    "                if col_name in patient_df.columns:\n",
    "                    nan_percent = patient_df[col_name].isnull().sum() * 100 / len(patient_df)\n",
    "                    if nan_percent != 0.0:\n",
    "                       nan_string += col_name + \" : \" + str(round(nan_percent, 2)) + \"; \"\n",
    "            nan_dict[breath_frequency][patient_nr] = nan_string\n",
    "    nan_df = pd.DataFrame(nan_dict)\n",
    "    return nan_df"
   ],
   "metadata": {
    "collapsed": false,
    "ExecuteTime": {
     "end_time": "2024-02-22T13:31:53.517086700Z",
     "start_time": "2024-02-22T13:31:53.511120900Z"
    }
   },
   "id": "12bf27ead385850"
  },
  {
   "cell_type": "code",
   "execution_count": null,
   "outputs": [],
   "source": [
    "print_nan_percent(breathing_dict_56)"
   ],
   "metadata": {
    "collapsed": false
   },
   "id": "bc940edf9dbad483"
  },
  {
   "cell_type": "code",
   "execution_count": 47,
   "outputs": [
    {
     "data": {
      "text/plain": "          6_breaths                               10_breaths     15_breaths  \\\n1                                                                             \n10                                                       NaN                  \n12                                                                            \n13                                                                            \n14                   fv_r : 0.13; fv_l : 0.13; etco2 : 0.2;                   \n15  etco2 : 21.43;                           etco2 : 52.85;                   \n16                                                                            \n17                                                                            \n18                                                                            \n19                                                                            \n2                                                                             \n20                                                                            \n21                                                                            \n22                                                                            \n23                                                                            \n24                                                                            \n25                                                                            \n26                                                                            \n27                                                                            \n28                                                                            \n29                                                                            \n3                                  fv_r : 0.01; fv_l : 0.0;                   \n30                                                                            \n31                                                                            \n32                                                                            \n33                                                                            \n34                                                                            \n35                                                                            \n36                                                                            \n37                                                                            \n4                                                                             \n5                                                                             \n6                                                                             \n7     fv_l : 1.19;                             fv_l : 0.16;   fv_l : 1.75;    \n8                                                                             \n9                                                                             \n\n           baseline  \n1                    \n10                   \n12                   \n13                   \n14                   \n15                   \n16                   \n17                   \n18                   \n19                   \n2                    \n20                   \n21                   \n22                   \n23                   \n24                   \n25                   \n26                   \n27    fv_r : 0.26;   \n28    fv_r : 0.56;   \n29                   \n3                    \n30                   \n31                   \n32                   \n33                   \n34                   \n35                   \n36                   \n37                   \n4                    \n5                    \n6                    \n7   etco2 : 100.0;   \n8                    \n9                    ",
      "text/html": "<div>\n<style scoped>\n    .dataframe tbody tr th:only-of-type {\n        vertical-align: middle;\n    }\n\n    .dataframe tbody tr th {\n        vertical-align: top;\n    }\n\n    .dataframe thead th {\n        text-align: right;\n    }\n</style>\n<table border=\"1\" class=\"dataframe\">\n  <thead>\n    <tr style=\"text-align: right;\">\n      <th></th>\n      <th>6_breaths</th>\n      <th>10_breaths</th>\n      <th>15_breaths</th>\n      <th>baseline</th>\n    </tr>\n  </thead>\n  <tbody>\n    <tr>\n      <th>1</th>\n      <td></td>\n      <td></td>\n      <td></td>\n      <td></td>\n    </tr>\n    <tr>\n      <th>10</th>\n      <td></td>\n      <td>NaN</td>\n      <td></td>\n      <td></td>\n    </tr>\n    <tr>\n      <th>12</th>\n      <td></td>\n      <td></td>\n      <td></td>\n      <td></td>\n    </tr>\n    <tr>\n      <th>13</th>\n      <td></td>\n      <td></td>\n      <td></td>\n      <td></td>\n    </tr>\n    <tr>\n      <th>14</th>\n      <td></td>\n      <td>fv_r : 0.13; fv_l : 0.13; etco2 : 0.2;</td>\n      <td></td>\n      <td></td>\n    </tr>\n    <tr>\n      <th>15</th>\n      <td>etco2 : 21.43;</td>\n      <td>etco2 : 52.85;</td>\n      <td></td>\n      <td></td>\n    </tr>\n    <tr>\n      <th>16</th>\n      <td></td>\n      <td></td>\n      <td></td>\n      <td></td>\n    </tr>\n    <tr>\n      <th>17</th>\n      <td></td>\n      <td></td>\n      <td></td>\n      <td></td>\n    </tr>\n    <tr>\n      <th>18</th>\n      <td></td>\n      <td></td>\n      <td></td>\n      <td></td>\n    </tr>\n    <tr>\n      <th>19</th>\n      <td></td>\n      <td></td>\n      <td></td>\n      <td></td>\n    </tr>\n    <tr>\n      <th>2</th>\n      <td></td>\n      <td></td>\n      <td></td>\n      <td></td>\n    </tr>\n    <tr>\n      <th>20</th>\n      <td></td>\n      <td></td>\n      <td></td>\n      <td></td>\n    </tr>\n    <tr>\n      <th>21</th>\n      <td></td>\n      <td></td>\n      <td></td>\n      <td></td>\n    </tr>\n    <tr>\n      <th>22</th>\n      <td></td>\n      <td></td>\n      <td></td>\n      <td></td>\n    </tr>\n    <tr>\n      <th>23</th>\n      <td></td>\n      <td></td>\n      <td></td>\n      <td></td>\n    </tr>\n    <tr>\n      <th>24</th>\n      <td></td>\n      <td></td>\n      <td></td>\n      <td></td>\n    </tr>\n    <tr>\n      <th>25</th>\n      <td></td>\n      <td></td>\n      <td></td>\n      <td></td>\n    </tr>\n    <tr>\n      <th>26</th>\n      <td></td>\n      <td></td>\n      <td></td>\n      <td></td>\n    </tr>\n    <tr>\n      <th>27</th>\n      <td></td>\n      <td></td>\n      <td></td>\n      <td>fv_r : 0.26;</td>\n    </tr>\n    <tr>\n      <th>28</th>\n      <td></td>\n      <td></td>\n      <td></td>\n      <td>fv_r : 0.56;</td>\n    </tr>\n    <tr>\n      <th>29</th>\n      <td></td>\n      <td></td>\n      <td></td>\n      <td></td>\n    </tr>\n    <tr>\n      <th>3</th>\n      <td></td>\n      <td>fv_r : 0.01; fv_l : 0.0;</td>\n      <td></td>\n      <td></td>\n    </tr>\n    <tr>\n      <th>30</th>\n      <td></td>\n      <td></td>\n      <td></td>\n      <td></td>\n    </tr>\n    <tr>\n      <th>31</th>\n      <td></td>\n      <td></td>\n      <td></td>\n      <td></td>\n    </tr>\n    <tr>\n      <th>32</th>\n      <td></td>\n      <td></td>\n      <td></td>\n      <td></td>\n    </tr>\n    <tr>\n      <th>33</th>\n      <td></td>\n      <td></td>\n      <td></td>\n      <td></td>\n    </tr>\n    <tr>\n      <th>34</th>\n      <td></td>\n      <td></td>\n      <td></td>\n      <td></td>\n    </tr>\n    <tr>\n      <th>35</th>\n      <td></td>\n      <td></td>\n      <td></td>\n      <td></td>\n    </tr>\n    <tr>\n      <th>36</th>\n      <td></td>\n      <td></td>\n      <td></td>\n      <td></td>\n    </tr>\n    <tr>\n      <th>37</th>\n      <td></td>\n      <td></td>\n      <td></td>\n      <td></td>\n    </tr>\n    <tr>\n      <th>4</th>\n      <td></td>\n      <td></td>\n      <td></td>\n      <td></td>\n    </tr>\n    <tr>\n      <th>5</th>\n      <td></td>\n      <td></td>\n      <td></td>\n      <td></td>\n    </tr>\n    <tr>\n      <th>6</th>\n      <td></td>\n      <td></td>\n      <td></td>\n      <td></td>\n    </tr>\n    <tr>\n      <th>7</th>\n      <td>fv_l : 1.19;</td>\n      <td>fv_l : 0.16;</td>\n      <td>fv_l : 1.75;</td>\n      <td>etco2 : 100.0;</td>\n    </tr>\n    <tr>\n      <th>8</th>\n      <td></td>\n      <td></td>\n      <td></td>\n      <td></td>\n    </tr>\n    <tr>\n      <th>9</th>\n      <td></td>\n      <td></td>\n      <td></td>\n      <td></td>\n    </tr>\n  </tbody>\n</table>\n</div>"
     },
     "execution_count": 47,
     "metadata": {},
     "output_type": "execute_result"
    }
   ],
   "source": [
    "print_nan_percent(breathing_dict_37)"
   ],
   "metadata": {
    "collapsed": false,
    "ExecuteTime": {
     "end_time": "2024-02-22T13:31:56.318549500Z",
     "start_time": "2024-02-22T13:31:56.209737Z"
    }
   },
   "id": "c3a4803723aeb6ba"
  },
  {
   "cell_type": "code",
   "execution_count": 48,
   "outputs": [],
   "source": [
    "def delete_keys(to_delete, breathing_dict):\n",
    "    for breath_freq in breathing_dict:\n",
    "        for key_to_delete in to_delete:\n",
    "            breathing_dict[breath_freq].pop(key_to_delete, None)"
   ],
   "metadata": {
    "collapsed": false,
    "ExecuteTime": {
     "end_time": "2024-02-22T13:32:20.861675900Z",
     "start_time": "2024-02-22T13:32:20.855577800Z"
    }
   },
   "id": "ed158e92e8c100a"
  },
  {
   "cell_type": "markdown",
   "source": [
    "Usuwanie ochotnika numer 35 z bazy 37 (zła jakość sygnału) oraz ochotnika numer 10"
   ],
   "metadata": {
    "collapsed": false
   },
   "id": "fd8fde3fb39a3d7a"
  },
  {
   "cell_type": "code",
   "execution_count": 49,
   "outputs": [],
   "source": [
    "to_delete_37 = [\"35\", \"10\"]\n",
    "delete_keys(to_delete_37, breathing_dict_37)"
   ],
   "metadata": {
    "collapsed": false,
    "ExecuteTime": {
     "end_time": "2024-02-22T13:32:39.607887900Z",
     "start_time": "2024-02-22T13:32:39.580450900Z"
    }
   },
   "id": "999eab162d6ad72b"
  },
  {
   "cell_type": "markdown",
   "source": [
    "Dodanie kolumny z datą i godziną do każdego dataframe i wypełnienie braków danych (NaN) wartościami średnimi"
   ],
   "metadata": {
    "collapsed": false
   },
   "id": "2ae9c36f7422a737"
  },
  {
   "cell_type": "code",
   "execution_count": 50,
   "outputs": [],
   "source": [
    "def fill_nan_and_add_time(breathing_dict):    \n",
    "    for breathing_freq in breathing_dict:\n",
    "        for patient_number, patient_df in breathing_dict[breathing_freq].items():\n",
    "            print(patient_number +\": \"+breathing_freq)\n",
    "            patient_df['DateFormat'] = patient_df['DateTime'].map(icmp_dateformat_to_datetime)\n",
    "            patient_df.fillna(patient_df.mean(), inplace=True)"
   ],
   "metadata": {
    "collapsed": false,
    "ExecuteTime": {
     "end_time": "2024-02-22T13:32:43.775198100Z",
     "start_time": "2024-02-22T13:32:43.759659Z"
    }
   },
   "id": "eddbc130ab38b435"
  },
  {
   "cell_type": "code",
   "execution_count": null,
   "outputs": [],
   "source": [
    "fill_nan_and_add_time(breathing_dict_56)"
   ],
   "metadata": {
    "collapsed": false
   },
   "id": "5faaf4a311693593"
  },
  {
   "cell_type": "code",
   "execution_count": 51,
   "outputs": [
    {
     "name": "stdout",
     "output_type": "stream",
     "text": [
      "1: 6_breaths\n",
      "12: 6_breaths\n",
      "13: 6_breaths\n",
      "14: 6_breaths\n",
      "15: 6_breaths\n",
      "16: 6_breaths\n",
      "17: 6_breaths\n",
      "18: 6_breaths\n",
      "19: 6_breaths\n",
      "2: 6_breaths\n",
      "20: 6_breaths\n",
      "21: 6_breaths\n",
      "22: 6_breaths\n",
      "23: 6_breaths\n",
      "24: 6_breaths\n",
      "25: 6_breaths\n",
      "26: 6_breaths\n",
      "27: 6_breaths\n",
      "28: 6_breaths\n",
      "29: 6_breaths\n",
      "3: 6_breaths\n",
      "30: 6_breaths\n",
      "31: 6_breaths\n",
      "32: 6_breaths\n",
      "33: 6_breaths\n",
      "34: 6_breaths\n",
      "36: 6_breaths\n",
      "37: 6_breaths\n",
      "4: 6_breaths\n",
      "5: 6_breaths\n",
      "6: 6_breaths\n",
      "7: 6_breaths\n",
      "8: 6_breaths\n",
      "9: 6_breaths\n",
      "1: 10_breaths\n",
      "12: 10_breaths\n",
      "13: 10_breaths\n",
      "14: 10_breaths\n",
      "15: 10_breaths\n",
      "16: 10_breaths\n",
      "17: 10_breaths\n",
      "18: 10_breaths\n",
      "19: 10_breaths\n",
      "2: 10_breaths\n",
      "20: 10_breaths\n",
      "21: 10_breaths\n",
      "22: 10_breaths\n",
      "23: 10_breaths\n",
      "24: 10_breaths\n",
      "25: 10_breaths\n",
      "26: 10_breaths\n",
      "27: 10_breaths\n",
      "28: 10_breaths\n",
      "29: 10_breaths\n",
      "3: 10_breaths\n",
      "30: 10_breaths\n",
      "31: 10_breaths\n",
      "32: 10_breaths\n",
      "33: 10_breaths\n",
      "34: 10_breaths\n",
      "36: 10_breaths\n",
      "37: 10_breaths\n",
      "4: 10_breaths\n",
      "5: 10_breaths\n",
      "6: 10_breaths\n",
      "7: 10_breaths\n",
      "8: 10_breaths\n",
      "9: 10_breaths\n",
      "1: 15_breaths\n",
      "12: 15_breaths\n",
      "13: 15_breaths\n",
      "14: 15_breaths\n",
      "15: 15_breaths\n",
      "16: 15_breaths\n",
      "17: 15_breaths\n",
      "18: 15_breaths\n",
      "19: 15_breaths\n",
      "2: 15_breaths\n",
      "20: 15_breaths\n",
      "21: 15_breaths\n",
      "22: 15_breaths\n",
      "23: 15_breaths\n",
      "24: 15_breaths\n",
      "25: 15_breaths\n",
      "26: 15_breaths\n",
      "27: 15_breaths\n",
      "28: 15_breaths\n",
      "29: 15_breaths\n",
      "3: 15_breaths\n",
      "30: 15_breaths\n",
      "31: 15_breaths\n",
      "32: 15_breaths\n",
      "33: 15_breaths\n",
      "34: 15_breaths\n",
      "36: 15_breaths\n",
      "37: 15_breaths\n",
      "4: 15_breaths\n",
      "5: 15_breaths\n",
      "6: 15_breaths\n",
      "7: 15_breaths\n",
      "8: 15_breaths\n",
      "9: 15_breaths\n",
      "1: baseline\n",
      "12: baseline\n",
      "13: baseline\n",
      "14: baseline\n",
      "15: baseline\n",
      "16: baseline\n",
      "17: baseline\n",
      "18: baseline\n",
      "19: baseline\n",
      "2: baseline\n",
      "20: baseline\n",
      "21: baseline\n",
      "22: baseline\n",
      "23: baseline\n",
      "24: baseline\n",
      "25: baseline\n",
      "26: baseline\n",
      "27: baseline\n",
      "28: baseline\n",
      "29: baseline\n",
      "3: baseline\n",
      "30: baseline\n",
      "31: baseline\n",
      "32: baseline\n",
      "33: baseline\n",
      "34: baseline\n",
      "36: baseline\n",
      "37: baseline\n",
      "4: baseline\n",
      "5: baseline\n",
      "6: baseline\n",
      "7: baseline\n",
      "8: baseline\n",
      "9: baseline\n"
     ]
    }
   ],
   "source": [
    "fill_nan_and_add_time(breathing_dict_37)"
   ],
   "metadata": {
    "collapsed": false,
    "ExecuteTime": {
     "end_time": "2024-02-22T13:33:03.477456100Z",
     "start_time": "2024-02-22T13:32:46.262101900Z"
    }
   },
   "id": "ae77cbd0698bb339"
  },
  {
   "cell_type": "code",
   "execution_count": 59,
   "outputs": [
    {
     "data": {
      "text/plain": "   6_breaths 10_breaths 15_breaths         baseline\n1                                                  \n12                                                 \n13                                                 \n14                                                 \n15                                                 \n16                                                 \n17                                                 \n18                                                 \n19                                                 \n2                                                  \n20                                                 \n21                                                 \n22                                                 \n23                                                 \n24                                                 \n25                                                 \n26                                                 \n27                                                 \n28                                                 \n29                                                 \n3                                                  \n30                                                 \n31                                                 \n32                                                 \n33                                                 \n34                                                 \n36                                                 \n37                                                 \n4                                                  \n5                                                  \n6                                                  \n7                                   etco2 : 100.0; \n8                                                  \n9                                                  ",
      "text/html": "<div>\n<style scoped>\n    .dataframe tbody tr th:only-of-type {\n        vertical-align: middle;\n    }\n\n    .dataframe tbody tr th {\n        vertical-align: top;\n    }\n\n    .dataframe thead th {\n        text-align: right;\n    }\n</style>\n<table border=\"1\" class=\"dataframe\">\n  <thead>\n    <tr style=\"text-align: right;\">\n      <th></th>\n      <th>6_breaths</th>\n      <th>10_breaths</th>\n      <th>15_breaths</th>\n      <th>baseline</th>\n    </tr>\n  </thead>\n  <tbody>\n    <tr>\n      <th>1</th>\n      <td></td>\n      <td></td>\n      <td></td>\n      <td></td>\n    </tr>\n    <tr>\n      <th>12</th>\n      <td></td>\n      <td></td>\n      <td></td>\n      <td></td>\n    </tr>\n    <tr>\n      <th>13</th>\n      <td></td>\n      <td></td>\n      <td></td>\n      <td></td>\n    </tr>\n    <tr>\n      <th>14</th>\n      <td></td>\n      <td></td>\n      <td></td>\n      <td></td>\n    </tr>\n    <tr>\n      <th>15</th>\n      <td></td>\n      <td></td>\n      <td></td>\n      <td></td>\n    </tr>\n    <tr>\n      <th>16</th>\n      <td></td>\n      <td></td>\n      <td></td>\n      <td></td>\n    </tr>\n    <tr>\n      <th>17</th>\n      <td></td>\n      <td></td>\n      <td></td>\n      <td></td>\n    </tr>\n    <tr>\n      <th>18</th>\n      <td></td>\n      <td></td>\n      <td></td>\n      <td></td>\n    </tr>\n    <tr>\n      <th>19</th>\n      <td></td>\n      <td></td>\n      <td></td>\n      <td></td>\n    </tr>\n    <tr>\n      <th>2</th>\n      <td></td>\n      <td></td>\n      <td></td>\n      <td></td>\n    </tr>\n    <tr>\n      <th>20</th>\n      <td></td>\n      <td></td>\n      <td></td>\n      <td></td>\n    </tr>\n    <tr>\n      <th>21</th>\n      <td></td>\n      <td></td>\n      <td></td>\n      <td></td>\n    </tr>\n    <tr>\n      <th>22</th>\n      <td></td>\n      <td></td>\n      <td></td>\n      <td></td>\n    </tr>\n    <tr>\n      <th>23</th>\n      <td></td>\n      <td></td>\n      <td></td>\n      <td></td>\n    </tr>\n    <tr>\n      <th>24</th>\n      <td></td>\n      <td></td>\n      <td></td>\n      <td></td>\n    </tr>\n    <tr>\n      <th>25</th>\n      <td></td>\n      <td></td>\n      <td></td>\n      <td></td>\n    </tr>\n    <tr>\n      <th>26</th>\n      <td></td>\n      <td></td>\n      <td></td>\n      <td></td>\n    </tr>\n    <tr>\n      <th>27</th>\n      <td></td>\n      <td></td>\n      <td></td>\n      <td></td>\n    </tr>\n    <tr>\n      <th>28</th>\n      <td></td>\n      <td></td>\n      <td></td>\n      <td></td>\n    </tr>\n    <tr>\n      <th>29</th>\n      <td></td>\n      <td></td>\n      <td></td>\n      <td></td>\n    </tr>\n    <tr>\n      <th>3</th>\n      <td></td>\n      <td></td>\n      <td></td>\n      <td></td>\n    </tr>\n    <tr>\n      <th>30</th>\n      <td></td>\n      <td></td>\n      <td></td>\n      <td></td>\n    </tr>\n    <tr>\n      <th>31</th>\n      <td></td>\n      <td></td>\n      <td></td>\n      <td></td>\n    </tr>\n    <tr>\n      <th>32</th>\n      <td></td>\n      <td></td>\n      <td></td>\n      <td></td>\n    </tr>\n    <tr>\n      <th>33</th>\n      <td></td>\n      <td></td>\n      <td></td>\n      <td></td>\n    </tr>\n    <tr>\n      <th>34</th>\n      <td></td>\n      <td></td>\n      <td></td>\n      <td></td>\n    </tr>\n    <tr>\n      <th>36</th>\n      <td></td>\n      <td></td>\n      <td></td>\n      <td></td>\n    </tr>\n    <tr>\n      <th>37</th>\n      <td></td>\n      <td></td>\n      <td></td>\n      <td></td>\n    </tr>\n    <tr>\n      <th>4</th>\n      <td></td>\n      <td></td>\n      <td></td>\n      <td></td>\n    </tr>\n    <tr>\n      <th>5</th>\n      <td></td>\n      <td></td>\n      <td></td>\n      <td></td>\n    </tr>\n    <tr>\n      <th>6</th>\n      <td></td>\n      <td></td>\n      <td></td>\n      <td></td>\n    </tr>\n    <tr>\n      <th>7</th>\n      <td></td>\n      <td></td>\n      <td></td>\n      <td>etco2 : 100.0;</td>\n    </tr>\n    <tr>\n      <th>8</th>\n      <td></td>\n      <td></td>\n      <td></td>\n      <td></td>\n    </tr>\n    <tr>\n      <th>9</th>\n      <td></td>\n      <td></td>\n      <td></td>\n      <td></td>\n    </tr>\n  </tbody>\n</table>\n</div>"
     },
     "execution_count": 59,
     "metadata": {},
     "output_type": "execute_result"
    }
   ],
   "source": [
    "print_nan_percent(breathing_dict_37)"
   ],
   "metadata": {
    "collapsed": false,
    "ExecuteTime": {
     "end_time": "2024-02-22T13:55:37.267197700Z",
     "start_time": "2024-02-22T13:55:37.166938200Z"
    }
   },
   "id": "ebf73e9c63de616e"
  },
  {
   "cell_type": "markdown",
   "source": [
    "Funkcja znajdująca piki, diff to jest RR w przypadku ECG tylko trzeba je przemnożyć przez 0.005 (1/(200 Hz)), peaks to numery próbek odpowiadających pikom, signal[peaks] to wartości sygnału odpowiadające tym numerom próbek"
   ],
   "metadata": {
    "collapsed": false
   },
   "id": "bed589386ec74b8"
  },
  {
   "cell_type": "code",
   "execution_count": 52,
   "outputs": [],
   "source": [
    "def get_peaks(signal):\n",
    "    peaks, _ = find_peaks(signal, distance=115)\n",
    "    difference = np.diff(peaks)  \n",
    "    return peaks, signal[peaks], difference"
   ],
   "metadata": {
    "collapsed": false,
    "ExecuteTime": {
     "end_time": "2024-02-22T13:33:08.701808700Z",
     "start_time": "2024-02-22T13:33:08.692404700Z"
    }
   },
   "id": "34ca7bfc8fc6b549"
  },
  {
   "cell_type": "markdown",
   "source": [
    "Wyrysowanie 600 pierwszych próbek każdego sygnału z zaznaczonymi znalezionymi pikami (\"x\")"
   ],
   "metadata": {
    "collapsed": false
   },
   "id": "18427c456e0d3403"
  },
  {
   "cell_type": "code",
   "execution_count": 53,
   "outputs": [],
   "source": [
    "def check_peak_detection_accuracy(plot_folder_path, data_dict):\n",
    "    for breath_frequency in data_dict:\n",
    "        for dataframe_nr, dataframe in data_dict[breath_frequency].items():       \n",
    "            fig, ax = plt.subplots(4, 1, tight_layout = True, figsize=(16, 32)) \n",
    "            for i, col_name in enumerate(['abp_arm', 'ekg', 'fv_l', 'fv_r']):\n",
    "                if col_name in dataframe.columns:\n",
    "                    x = dataframe[col_name].iloc[:600]\n",
    "                    ax[i].plot(x)\n",
    "                    my_peaks = get_peaks(x)\n",
    "                    ax[i].plot(my_peaks[0], my_peaks[1], \"x\")\n",
    "                    ax[i].set_ylabel(f'{col_name}', fontsize=25)\n",
    "                    ax[i].tick_params(axis='both', labelsize=18)\n",
    "                    ax[i].grid(True)\n",
    "            ax[3].set_xlabel(\"nr probki\", fontsize = 28)\n",
    "            savefig_path = plot_folder_path+f\"\\\\{breath_frequency}\\\\{dataframe_nr}_plot.pdf\"\n",
    "            plt.savefig(savefig_path, bbox_inches='tight', dpi=600)\n",
    "            plt.show()\n",
    "            plt.close()"
   ],
   "metadata": {
    "collapsed": false,
    "ExecuteTime": {
     "end_time": "2024-02-22T13:33:12.165665400Z",
     "start_time": "2024-02-22T13:33:12.146751Z"
    }
   },
   "id": "e4ae9fad62980dc"
  },
  {
   "cell_type": "code",
   "execution_count": 15,
   "outputs": [],
   "source": [
    "folder_path = \"C:\\\\Users\\\\48503\\\\Desktop\\\\joint_symbolic\\\\timeseries_plots\\\\56\"\n",
    "check_peak_detection_accuracy(folder_path, breathing_dict_56)"
   ],
   "metadata": {
    "collapsed": false,
    "ExecuteTime": {
     "start_time": "2024-02-05T02:42:08.438593500Z"
    }
   },
   "id": "6e2898e68dd410cf"
  },
  {
   "cell_type": "code",
   "execution_count": 54,
   "outputs": [],
   "source": [
    "folder_path = \"C:\\\\Users\\\\48503\\\\Desktop\\\\joint_symbolic\\\\timeseries_plots\\\\37\"\n",
    "check_peak_detection_accuracy(folder_path, breathing_dict_37)"
   ],
   "metadata": {
    "collapsed": false,
    "ExecuteTime": {
     "end_time": "2024-02-22T13:34:43.693946200Z",
     "start_time": "2024-02-22T13:33:19.032664400Z"
    }
   },
   "id": "d26d799a5d8bd369"
  },
  {
   "cell_type": "markdown",
   "source": [
    "Usuwanie uprzednio wykluczonych pacjentów numer 2, 6 i 33 oraz dodatkowo 14 i 31 (zła jakość sygnału) z bazy 56"
   ],
   "metadata": {
    "collapsed": false
   },
   "id": "ffcd62632605e361"
  },
  {
   "cell_type": "code",
   "execution_count": 89,
   "outputs": [],
   "source": [
    "to_delete_56 = [\"2\", \"6\", \"33\", \"14\", \"31\"]\n",
    "delete_keys(to_delete_56, breathing_dict_56)"
   ],
   "metadata": {
    "collapsed": false,
    "ExecuteTime": {
     "start_time": "2024-02-14T07:03:12.389052500Z"
    }
   },
   "id": "80ed958c046a7b74"
  },
  {
   "cell_type": "code",
   "execution_count": 90,
   "outputs": [],
   "source": [
    "def make_empty_matrix():\n",
    "    my_permutations = [''.join(map(str, triplet)) for triplet in list((itertools.product([1, 0], repeat=3)))]\n",
    "    my_matrix = pd.DataFrame()\n",
    "    for triplet_1 in my_permutations: \n",
    "       for triplet_2 in my_permutations:\n",
    "            my_matrix.at[\"'\"+triplet_1, \"'\"+triplet_2] = 0\n",
    "    return my_matrix"
   ],
   "metadata": {
    "collapsed": false,
    "ExecuteTime": {
     "end_time": "2024-02-22T15:06:48.658738300Z",
     "start_time": "2024-02-22T15:06:48.623001500Z"
    }
   },
   "id": "c3c5d37c5889b8a8"
  },
  {
   "cell_type": "code",
   "execution_count": 91,
   "outputs": [],
   "source": [
    "def get_diff_df(dataframe, is_fv, is_left):\n",
    "    sap = get_peaks(dataframe['abp_arm'])[1]\n",
    "    if is_fv:\n",
    "        sap = get_peaks(dataframe['fv_l'])[1]\n",
    "        if not is_left:\n",
    "            sap = get_peaks(dataframe['fv_r'])[1]\n",
    "            \n",
    "    try:        \n",
    "        rr = get_peaks(dataframe['ekg'])[2]*0.005\n",
    "    except:\n",
    "        rr = get_peaks(dataframe['abp_arm'])[2]*0.005 #u osób bez EKG korzystamy z ABP\n",
    "        \n",
    "    sap_diff = np.diff(sap)\n",
    "    rr_diff = np.diff(rr)\n",
    "    diff_dataframe = pd.DataFrame(list(zip(sap_diff, rr_diff)), columns=['sap_diff', 'rr_diff'])\n",
    "    return diff_dataframe"
   ],
   "metadata": {
    "collapsed": false,
    "ExecuteTime": {
     "end_time": "2024-02-22T15:06:49.364226100Z",
     "start_time": "2024-02-22T15:06:49.314275700Z"
    }
   },
   "id": "d68c0791626f7d52"
  },
  {
   "cell_type": "code",
   "execution_count": 92,
   "outputs": [],
   "source": [
    "def make_and_save_heatmap(relative_array, breath_frequency, is_fv, heatmap_path):\n",
    "    my_custom_palette = sns.color_palette(\"ch:-.24\", as_cmap=True)\n",
    "    my_heatmap = sns.heatmap(relative_array, cmap = my_custom_palette, annot=True)\n",
    "    my_heatmap.xaxis.tick_top()\n",
    "    my_heatmap.xaxis.set_ticks_position('none')\n",
    "    fontsize = 10\n",
    "    plt.xlabel('SAP', fontsize = fontsize) \n",
    "    my_heatmap.xaxis.set_label_position('top') \n",
    "    plt.ylabel('RR', fontsize = fontsize) \n",
    "    if is_fv:\n",
    "        plt.savefig(heatmap_path+f\"\\\\{breath_frequency}_heatmap_fv.pdf\", bbox_inches='tight', dpi=600)\n",
    "        relative_array.to_csv(heatmap_path+f\"\\\\{breath_frequency}_matrix_fv.csv\")\n",
    "    else:\n",
    "        plt.savefig(heatmap_path+f\"\\\\{breath_frequency}_heatmap_abp.pdf\", bbox_inches='tight', dpi=600)\n",
    "        relative_array.to_csv(heatmap_path+f\"\\\\{breath_frequency}_matrix_abp.csv\")\n",
    "    plt.show()\n",
    "    plt.close()"
   ],
   "metadata": {
    "collapsed": false,
    "ExecuteTime": {
     "end_time": "2024-02-22T15:06:51.144547500Z",
     "start_time": "2024-02-22T15:06:51.114215300Z"
    }
   },
   "id": "35b003b09ae81c1c"
  },
  {
   "cell_type": "code",
   "execution_count": 93,
   "outputs": [],
   "source": [
    "def save_jsd(is_fv, jsd_df, jsd_path):\n",
    "    if is_fv:\n",
    "        jsd_df.T.to_csv(jsd_path+\"\\\\jsd_fv.csv\")\n",
    "    else:    \n",
    "        jsd_df.T.to_csv(jsd_path+\"\\\\jsd_abp.csv\")"
   ],
   "metadata": {
    "collapsed": false,
    "ExecuteTime": {
     "end_time": "2024-02-22T15:06:53.407923100Z",
     "start_time": "2024-02-22T15:06:53.361377700Z"
    }
   },
   "id": "415565c54f1556ff"
  },
  {
   "cell_type": "code",
   "execution_count": 97,
   "outputs": [],
   "source": [
    "def add_mean_params(jsd_df, dataframe, is_left, patient_number, freq):\n",
    "    window_size = 2000\n",
    "    for col_name in ['abp_arm', 'ekg', 'etco2']:\n",
    "        if col_name in dataframe.columns:\n",
    "            nan_percent = dataframe[col_name].isnull().sum() * 100 / len(dataframe)\n",
    "            if nan_percent != 100.0:\n",
    "                jsd_df.at[\"mean_\"+col_name+\"_\"+freq, patient_number] = dataframe[col_name].rolling(window=window_size).mean().dropna().mean()\n",
    "    if is_left:\n",
    "        jsd_df.at[\"mean_fvr/l_\"+freq, patient_number] = dataframe['fv_l'].rolling(window=window_size).mean().dropna().mean()\n",
    "    else:\n",
    "        jsd_df.at[\"mean_fvr/l_\"+freq, patient_number] = dataframe['fv_r'].rolling(window=window_size).mean().dropna().mean()\n",
    "    return jsd_df"
   ],
   "metadata": {
    "collapsed": false,
    "ExecuteTime": {
     "end_time": "2024-02-22T15:14:22.377585900Z",
     "start_time": "2024-02-22T15:14:22.345004700Z"
    }
   },
   "id": "f575fe22c91102d5"
  },
  {
   "cell_type": "code",
   "execution_count": 98,
   "outputs": [],
   "source": [
    "def joint_symbolic(data_dict, is_fv, metadata_path, heatmap_path, jsd_path):\n",
    "    jsd_df = pd.DataFrame()\n",
    "    metadata = pd.read_csv(metadata_path, sep = \";\")\n",
    "    for freq in data_dict:\n",
    "        freq_matrix = make_empty_matrix()\n",
    "        for patient_number, dataframe in data_dict[freq].items():\n",
    "            is_left = bool(metadata.at[metadata.loc[metadata['L.poj.'] == int(patient_number)].index[0], 'FV_LEWA_MCA'])\n",
    "            patient_freq_matrix = make_empty_matrix()\n",
    "            diff_df = get_diff_df(dataframe, is_fv, is_left)\n",
    "            \n",
    "            for col_name in ['sap_diff', 'rr_diff']:\n",
    "                diff_df[f'{col_name}_binary'] = diff_df.apply(lambda df_row: 1 if df_row[col_name] > 0 else 0, axis = 1)\n",
    "            \n",
    "            for index in range(0, len(diff_df)):\n",
    "                sap_triplet =  ''.join(diff_df['sap_diff_binary'].iloc[index:index+3].astype(str))\n",
    "                rr_triplet =  ''.join(diff_df['rr_diff_binary'].iloc[index:index+3].astype(str))\n",
    "                if len(rr_triplet) > 2 and len(sap_triplet) > 2:\n",
    "                     freq_matrix.at[\"'\"+rr_triplet, \"'\"+sap_triplet] += 1 #kreska potrzebna, żeby R nie usuwało początkowych zer\n",
    "                     patient_freq_matrix.at[\"'\"+rr_triplet, \"'\"+sap_triplet] += 1 \n",
    "            \n",
    "            relative_patient_matrix = patient_freq_matrix.div(np.sum(patient_freq_matrix.values))   \n",
    "            signal_map = {True : 'FV_', False : 'ABP_'}\n",
    "            jsd_df.at[signal_map[is_fv]+\"jsd_sym_\"+freq, patient_number] = np.sum(np.diag(relative_patient_matrix)) \n",
    "            jsd_df.at[signal_map[is_fv]+\"jsd_diam_\"+freq, patient_number] = np.sum(np.diag(np.rot90(relative_patient_matrix)))\n",
    "            jsd_df = add_mean_params(jsd_df, dataframe, is_left, patient_number, freq)\n",
    "            \n",
    "        relative_freq_matrix = freq_matrix.div(np.sum(freq_matrix.values))        \n",
    "        make_and_save_heatmap(relative_freq_matrix, freq, is_fv, heatmap_path)\n",
    "    save_jsd(is_fv, jsd_df, jsd_path)     "
   ],
   "metadata": {
    "collapsed": false,
    "ExecuteTime": {
     "end_time": "2024-02-22T15:14:24.811005300Z",
     "start_time": "2024-02-22T15:14:24.770379Z"
    }
   },
   "id": "f26ca0b6637722ee"
  },
  {
   "cell_type": "code",
   "execution_count": 69,
   "outputs": [],
   "source": [
    "jsa_path = \"C:\\\\Users\\\\48503\\\\Desktop\\\\joint_symbolic\\\\\""
   ],
   "metadata": {
    "collapsed": false,
    "ExecuteTime": {
     "end_time": "2024-02-22T14:24:47.315609800Z",
     "start_time": "2024-02-22T14:24:47.275040700Z"
    }
   },
   "id": "2a99f9de5f7deb34"
  },
  {
   "cell_type": "markdown",
   "source": [
    "Joint symbolic dla bazy 56"
   ],
   "metadata": {
    "collapsed": false
   },
   "id": "5585f222a8a2b813"
  },
  {
   "cell_type": "code",
   "execution_count": 120,
   "outputs": [],
   "source": [
    "meta_path_56 = jsa_path + \"dane_sonata\\\\dane_sonata_56.csv\"\n",
    "heatmap_path_56 = jsa_path + \"heatmaps\\\\56\"\n",
    "jsd_path_56 = jsa_path + \"jsd\\\\56\""
   ],
   "metadata": {
    "collapsed": false,
    "ExecuteTime": {
     "end_time": "2024-02-21T19:51:16.029262800Z",
     "start_time": "2024-02-21T19:51:16.004990600Z"
    }
   },
   "id": "4e1990630cf5301c"
  },
  {
   "cell_type": "code",
   "execution_count": 98,
   "outputs": [],
   "source": [
    "joint_symbolic(breathing_dict_56, False, meta_path_56, heatmap_path_56, jsd_path_56) #abp\n",
    "joint_symbolic(breathing_dict_56, True, meta_path_56, heatmap_path_56, jsd_path_56)  #fv"
   ],
   "metadata": {
    "collapsed": false,
    "ExecuteTime": {
     "end_time": "2024-02-14T07:05:38.153977200Z",
     "start_time": "2024-02-14T07:05:17.046735100Z"
    }
   },
   "id": "8b57907659ac3fda"
  },
  {
   "cell_type": "markdown",
   "source": [
    "Joint symbolic dla bazy 37"
   ],
   "metadata": {
    "collapsed": false
   },
   "id": "eb882147786d3fd8"
  },
  {
   "cell_type": "code",
   "execution_count": 88,
   "outputs": [],
   "source": [
    "meta_path_37 = jsa_path + \"dane_sonata\\\\dane_sonata_37.csv\"\n",
    "heatmap_path_37 = jsa_path + \"heatmaps\\\\37\"\n",
    "jsd_path_37 = jsa_path + \"jsd\\\\37\""
   ],
   "metadata": {
    "collapsed": false,
    "ExecuteTime": {
     "end_time": "2024-02-22T14:55:13.134301500Z",
     "start_time": "2024-02-22T14:55:13.088195500Z"
    }
   },
   "id": "21ba2c3ed7a5dfb5"
  },
  {
   "cell_type": "code",
   "execution_count": 112,
   "outputs": [],
   "source": [
    "joint_symbolic(breathing_dict_37, False, meta_path_37, heatmap_path_37, jsd_path_37) #abp\n",
    "joint_symbolic(breathing_dict_37, True, meta_path_37, heatmap_path_37, jsd_path_37)  #fv"
   ],
   "metadata": {
    "collapsed": false,
    "ExecuteTime": {
     "end_time": "2024-02-22T15:43:29.521779Z",
     "start_time": "2024-02-22T15:43:03.905358200Z"
    }
   },
   "id": "2c6ea896940ca819"
  },
  {
   "cell_type": "markdown",
   "source": [
    "Sklejanie plików z jsd i średnimi dla fv i abp "
   ],
   "metadata": {
    "collapsed": false
   },
   "id": "3d273529d5be4e1"
  },
  {
   "cell_type": "code",
   "execution_count": 133,
   "outputs": [],
   "source": [
    "jsd_path_37 = jsa_path + \"jsd\\\\37\\\\\"\n",
    "jsd_abp = pd.read_csv(jsd_path_37+'jsd_abp.csv', index_col='Unnamed: 0')\n",
    "jsd_fv = pd.read_csv(jsd_path_37+'jsd_fv.csv', index_col='Unnamed: 0')\n",
    "\n",
    "jsd_fv = jsd_fv.drop(columns=jsd_abp.columns.intersection(jsd_fv.columns)) #usuwam powtarzające się kolumny\n",
    "\n",
    "jsd = jsd_abp.merge(jsd_fv, left_index=True, right_index=True, how='inner')\n",
    "jsd_sorted = jsd.sort_index()\n",
    "jsd_sorted.to_csv(jsd_path_37+'jsd_all.csv', index_label='patient_id')"
   ],
   "metadata": {
    "collapsed": false,
    "ExecuteTime": {
     "end_time": "2024-02-22T17:57:36.720983300Z",
     "start_time": "2024-02-22T17:57:36.653756800Z"
    }
   },
   "id": "758f005be5e07b68"
  },
  {
   "cell_type": "markdown",
   "source": [
    "Zmiana formy macierzy z relatywną częstotliwością na zwykłą tabelkę w celu narysowania histogramów 3D w R"
   ],
   "metadata": {
    "collapsed": false
   },
   "id": "d001baf88f0de690"
  },
  {
   "cell_type": "code",
   "execution_count": 129,
   "outputs": [],
   "source": [
    "def transform_matrix(heatmap_path):\n",
    "    save_path = heatmap_path + \"\\\\transformed\\\\\"\n",
    "    for my_file_name in os.listdir(heatmap_path):\n",
    "        if my_file_name.endswith('.csv'):\n",
    "           dataframe = pd.read_csv(heatmap_path + f\"\\\\{my_file_name}\", index_col='Unnamed: 0')\n",
    "           new_df = pd.DataFrame(columns=['RR', 'SAP', 'relative frequency'])\n",
    "\n",
    "           for idx in dataframe.index:\n",
    "              for col in dataframe.columns:\n",
    "                 new_df = pd.concat([new_df, pd.DataFrame({'RR': [idx], 'SAP': [col], 'relative frequency': [dataframe.at[idx, col]]})], ignore_index=True)\n",
    "           new_df.to_csv(save_path + f\"\\\\{my_file_name}\", index=False)"
   ],
   "metadata": {
    "collapsed": false,
    "ExecuteTime": {
     "end_time": "2024-02-22T15:56:08.815167200Z",
     "start_time": "2024-02-22T15:56:08.776188700Z"
    }
   },
   "id": "4981ca2cf4c997ab"
  },
  {
   "cell_type": "code",
   "execution_count": 130,
   "outputs": [
    {
     "name": "stderr",
     "output_type": "stream",
     "text": [
      "C:\\Users\\48503\\AppData\\Local\\Temp\\ipykernel_21888\\4038159935.py:10: FutureWarning: The behavior of DataFrame concatenation with empty or all-NA entries is deprecated. In a future version, this will no longer exclude empty or all-NA columns when determining the result dtypes. To retain the old behavior, exclude the relevant entries before the concat operation.\n",
      "  new_df = pd.concat([new_df, pd.DataFrame({'RR': [idx], 'SAP': [col], 'relative frequency': [dataframe.at[idx, col]]})], ignore_index=True)\n",
      "C:\\Users\\48503\\AppData\\Local\\Temp\\ipykernel_21888\\4038159935.py:10: FutureWarning: The behavior of DataFrame concatenation with empty or all-NA entries is deprecated. In a future version, this will no longer exclude empty or all-NA columns when determining the result dtypes. To retain the old behavior, exclude the relevant entries before the concat operation.\n",
      "  new_df = pd.concat([new_df, pd.DataFrame({'RR': [idx], 'SAP': [col], 'relative frequency': [dataframe.at[idx, col]]})], ignore_index=True)\n",
      "C:\\Users\\48503\\AppData\\Local\\Temp\\ipykernel_21888\\4038159935.py:10: FutureWarning: The behavior of DataFrame concatenation with empty or all-NA entries is deprecated. In a future version, this will no longer exclude empty or all-NA columns when determining the result dtypes. To retain the old behavior, exclude the relevant entries before the concat operation.\n",
      "  new_df = pd.concat([new_df, pd.DataFrame({'RR': [idx], 'SAP': [col], 'relative frequency': [dataframe.at[idx, col]]})], ignore_index=True)\n",
      "C:\\Users\\48503\\AppData\\Local\\Temp\\ipykernel_21888\\4038159935.py:10: FutureWarning: The behavior of DataFrame concatenation with empty or all-NA entries is deprecated. In a future version, this will no longer exclude empty or all-NA columns when determining the result dtypes. To retain the old behavior, exclude the relevant entries before the concat operation.\n",
      "  new_df = pd.concat([new_df, pd.DataFrame({'RR': [idx], 'SAP': [col], 'relative frequency': [dataframe.at[idx, col]]})], ignore_index=True)\n",
      "C:\\Users\\48503\\AppData\\Local\\Temp\\ipykernel_21888\\4038159935.py:10: FutureWarning: The behavior of DataFrame concatenation with empty or all-NA entries is deprecated. In a future version, this will no longer exclude empty or all-NA columns when determining the result dtypes. To retain the old behavior, exclude the relevant entries before the concat operation.\n",
      "  new_df = pd.concat([new_df, pd.DataFrame({'RR': [idx], 'SAP': [col], 'relative frequency': [dataframe.at[idx, col]]})], ignore_index=True)\n",
      "C:\\Users\\48503\\AppData\\Local\\Temp\\ipykernel_21888\\4038159935.py:10: FutureWarning: The behavior of DataFrame concatenation with empty or all-NA entries is deprecated. In a future version, this will no longer exclude empty or all-NA columns when determining the result dtypes. To retain the old behavior, exclude the relevant entries before the concat operation.\n",
      "  new_df = pd.concat([new_df, pd.DataFrame({'RR': [idx], 'SAP': [col], 'relative frequency': [dataframe.at[idx, col]]})], ignore_index=True)\n",
      "C:\\Users\\48503\\AppData\\Local\\Temp\\ipykernel_21888\\4038159935.py:10: FutureWarning: The behavior of DataFrame concatenation with empty or all-NA entries is deprecated. In a future version, this will no longer exclude empty or all-NA columns when determining the result dtypes. To retain the old behavior, exclude the relevant entries before the concat operation.\n",
      "  new_df = pd.concat([new_df, pd.DataFrame({'RR': [idx], 'SAP': [col], 'relative frequency': [dataframe.at[idx, col]]})], ignore_index=True)\n",
      "C:\\Users\\48503\\AppData\\Local\\Temp\\ipykernel_21888\\4038159935.py:10: FutureWarning: The behavior of DataFrame concatenation with empty or all-NA entries is deprecated. In a future version, this will no longer exclude empty or all-NA columns when determining the result dtypes. To retain the old behavior, exclude the relevant entries before the concat operation.\n",
      "  new_df = pd.concat([new_df, pd.DataFrame({'RR': [idx], 'SAP': [col], 'relative frequency': [dataframe.at[idx, col]]})], ignore_index=True)\n"
     ]
    }
   ],
   "source": [
    "transform_matrix(heatmap_path_37)"
   ],
   "metadata": {
    "collapsed": false,
    "ExecuteTime": {
     "end_time": "2024-02-22T15:56:09.491172400Z",
     "start_time": "2024-02-22T15:56:09.264307600Z"
    }
   },
   "id": "9acf1cef584e4a2e"
  },
  {
   "cell_type": "code",
   "execution_count": null,
   "outputs": [],
   "source": [],
   "metadata": {
    "collapsed": false
   },
   "id": "85863e48ff79a805"
  }
 ],
 "metadata": {
  "kernelspec": {
   "display_name": "Python 3",
   "language": "python",
   "name": "python3"
  },
  "language_info": {
   "codemirror_mode": {
    "name": "ipython",
    "version": 2
   },
   "file_extension": ".py",
   "mimetype": "text/x-python",
   "name": "python",
   "nbconvert_exporter": "python",
   "pygments_lexer": "ipython2",
   "version": "2.7.6"
  }
 },
 "nbformat": 4,
 "nbformat_minor": 5
}
