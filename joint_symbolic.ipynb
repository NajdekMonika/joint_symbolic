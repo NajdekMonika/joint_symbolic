{
 "cells": [
  {
   "cell_type": "code",
   "execution_count": 2,
   "outputs": [
    {
     "name": "stdout",
     "output_type": "stream",
     "text": [
      "Collecting PyQt5\n",
      "  Obtaining dependency information for PyQt5 from https://files.pythonhosted.org/packages/ca/ac/596e8ca16fd0634542d874c0d79219fc527ea7de73a5000092f60ecbf6e9/PyQt5-5.15.10-cp37-abi3-win_amd64.whl.metadata\n",
      "  Downloading PyQt5-5.15.10-cp37-abi3-win_amd64.whl.metadata (2.2 kB)\n",
      "Collecting PyQt5-sip<13,>=12.13 (from PyQt5)\n",
      "  Obtaining dependency information for PyQt5-sip<13,>=12.13 from https://files.pythonhosted.org/packages/8e/e2/d296cb17bae19ba49137a2649934a70d5f48cc99b7daa6ce9cf1aecddfeb/PyQt5_sip-12.13.0-cp311-cp311-win_amd64.whl.metadata\n",
      "  Downloading PyQt5_sip-12.13.0-cp311-cp311-win_amd64.whl.metadata (524 bytes)\n",
      "Collecting PyQt5-Qt5>=5.15.2 (from PyQt5)\n",
      "  Using cached PyQt5_Qt5-5.15.2-py3-none-win_amd64.whl (50.1 MB)\n",
      "Using cached PyQt5-5.15.10-cp37-abi3-win_amd64.whl (6.8 MB)\n",
      "Using cached PyQt5_sip-12.13.0-cp311-cp311-win_amd64.whl (78 kB)\n",
      "Installing collected packages: PyQt5-Qt5, PyQt5-sip, PyQt5\n",
      "Successfully installed PyQt5-5.15.10 PyQt5-Qt5-5.15.2 PyQt5-sip-12.13.0\n"
     ]
    },
    {
     "name": "stderr",
     "output_type": "stream",
     "text": [
      "\n",
      "[notice] A new release of pip is available: 23.2.1 -> 23.3.2\n",
      "[notice] To update, run: python.exe -m pip install --upgrade pip\n"
     ]
    }
   ],
   "source": [
    "!pip install PyQt5"
   ],
   "metadata": {
    "collapsed": false,
    "ExecuteTime": {
     "end_time": "2024-01-08T05:01:03.690873400Z",
     "start_time": "2024-01-08T05:00:57.984537500Z"
    }
   },
   "id": "c02ee99ed70622f4"
  },
  {
   "cell_type": "code",
   "execution_count": 2,
   "outputs": [],
   "source": [
    "import numpy as np\n",
    "import pandas as pd\n",
    "import matplotlib.pyplot as plt\n",
    "import matplotlib as mpl\n",
    "%matplotlib qt\n",
    "import seaborn as sns\n",
    "import os\n",
    "from os import path\n",
    "import datetime\n",
    "import xlrd\n",
    "plt.style.use('seaborn-v0_8-ticks')\n",
    "from scipy.signal import find_peaks\n",
    "import itertools\n",
    "from pylab import *\n",
    "import csv"
   ],
   "metadata": {
    "collapsed": false,
    "ExecuteTime": {
     "end_time": "2024-02-05T02:28:28.180219200Z",
     "start_time": "2024-02-05T02:28:27.892697500Z"
    }
   },
   "id": "initial_id"
  },
  {
   "cell_type": "markdown",
   "source": [
    "Pobieranie zestawu danych"
   ],
   "metadata": {
    "collapsed": false
   },
   "id": "30ee3ea725ca1572"
  },
  {
   "cell_type": "code",
   "execution_count": null,
   "outputs": [],
   "source": [
    "folder_path = \"C:\\\\Users\\\\48503\\\\Desktop\\\\joint_symbolic\\\\controlled_breathing\"\n",
    "folders = os.listdir(folder_path)\n",
    "breathing_dict = {folder : {} for folder in folders}\n",
    "\n",
    "for folder_name in folders:\n",
    "    path = os.path.join(folder_path, folder_name)\n",
    "    for file_name in os.listdir(path):\n",
    "        if file_name.endswith('.csv'):\n",
    "         df_name = file_name.split('_ODD')[0]\n",
    "         df = pd.read_csv(os.path.join(path, file_name))\n",
    "         breathing_dict[folder_name][df_name] = df"
   ],
   "metadata": {
    "collapsed": false
   },
   "id": "5d0bc73ce08d5432"
  },
  {
   "cell_type": "markdown",
   "source": [
    "Pobranie zestawu danych, gdzie występują dwa typy plików csv"
   ],
   "metadata": {
    "collapsed": false
   },
   "id": "140bfd4e6f19443"
  },
  {
   "cell_type": "code",
   "execution_count": 3,
   "outputs": [],
   "source": [
    "collective_path = \"C:\\\\Users\\\\48503\\\\Desktop\\\\joint_symbolic\\\\controlled_breathing_full2\"\n",
    "folders = os.listdir(collective_path)\n",
    "breathing_dict = {folder : {} for folder in folders}\n",
    "\n",
    "for folder_name in folders:\n",
    "    folder_path = os.path.join(collective_path, folder_name)\n",
    "    for file_name in os.listdir(folder_path):\n",
    "        if file_name.endswith('.csv'):\n",
    "          df_name = file_name.split('PAC_')[1].split('_')[0]\n",
    "          file_path = os.path.join(folder_path, file_name)\n",
    "          csv_file = open(file_path, 'r')\n",
    "          try:\n",
    "              dialect = csv.Sniffer().sniff(csv_file.readline(), ';')   \n",
    "          except:\n",
    "              dialect = csv.Sniffer().sniff(csv_file.readline(), ',')   \n",
    "          csv_file.seek(0)\n",
    "          df = pd.read_csv(file_path, on_bad_lines='skip', sep=dialect.delimiter)\n",
    "          if dialect.delimiter == \";\":\n",
    "              for row in df:\n",
    "                  df[row] = df[row].str.replace(',','.').astype(float)\n",
    "          breathing_dict[folder_name][df_name] = df"
   ],
   "metadata": {
    "collapsed": false,
    "ExecuteTime": {
     "end_time": "2024-02-05T02:29:03.542894200Z",
     "start_time": "2024-02-05T02:28:34.380057Z"
    }
   },
   "id": "af116aed141331b5"
  },
  {
   "cell_type": "markdown",
   "source": [
    "Sprawdzenie nazw kolumn w plikach"
   ],
   "metadata": {
    "collapsed": false
   },
   "id": "c43919a5a3a2c948"
  },
  {
   "cell_type": "code",
   "execution_count": null,
   "outputs": [],
   "source": [
    "for breath_freq in breathing_dict:\n",
    "    for df_name, df in breathing_dict[breath_freq].items(): \n",
    "        print(df.columns)"
   ],
   "metadata": {
    "collapsed": false
   },
   "id": "a80d978185bd0d8e"
  },
  {
   "cell_type": "markdown",
   "source": [
    "Zamiana nazw kolumn na jednolite\n",
    "\"fv_r[]\", \"fv_r[fv_r]\" -> \"fv_r\"\n",
    "\"fv_l[]\", \"fv_r[fv_l]\" -> \"fv_l\"\n",
    "\"ekg[]\", \"ekg[ekg]\" -> \"ekg\"\n",
    "\"abp_arm[mm_Hg]\", \"abp_arm[abp_arm]\" -> \"abp_arm\""
   ],
   "metadata": {
    "collapsed": false
   },
   "id": "5a915c88bbf3cba4"
  },
  {
   "cell_type": "code",
   "execution_count": 6,
   "outputs": [],
   "source": [
    "column_names_map = {\"fv_r[]\":\"fv_r\", \"fv_r[fv_r]\":\"fv_r\", \"fv_l[]\":\"fv_l\", \n",
    "                    \"fv_l[fv_l]\":\"fv_l\", \"ekg[]\":\"ekg\", \"ekg[ekg]\":\"ekg\", \"abp_arm[mm_Hg]\":\"abp_arm\", \"abp_arm[abp_arm]\":\"abp_arm\"}\n",
    "for breath_freq in breathing_dict:\n",
    "    for df_name, df in breathing_dict[breath_freq].items(): \n",
    "        df.rename(columns=column_names_map, inplace=True)"
   ],
   "metadata": {
    "collapsed": false,
    "ExecuteTime": {
     "end_time": "2024-02-05T02:30:55.977318300Z",
     "start_time": "2024-02-05T02:30:55.907214500Z"
    }
   },
   "id": "bb37e61b9337b91e"
  },
  {
   "cell_type": "markdown",
   "source": [
    "Sprawdzenie nazw kolumn w plikach po raz drugi"
   ],
   "metadata": {
    "collapsed": false
   },
   "id": "5ab7d3cbc7dd8735"
  },
  {
   "cell_type": "code",
   "execution_count": null,
   "outputs": [],
   "source": [
    "for breath_freq in breathing_dict:\n",
    "    for df_name, df in breathing_dict[breath_freq].items(): \n",
    "        print(df.columns)"
   ],
   "metadata": {
    "collapsed": false
   },
   "id": "e3a9989382a76006"
  },
  {
   "cell_type": "markdown",
   "source": [
    "Funkcja konwertująca czas"
   ],
   "metadata": {
    "collapsed": false
   },
   "id": "c00d1febd95b64fd"
  },
  {
   "cell_type": "code",
   "execution_count": 8,
   "outputs": [],
   "source": [
    "def icmp_dateformat_to_datetime(icmp_time_mark):\n",
    "    datetime_date = xlrd.xldate_as_datetime(icmp_time_mark, 0)\n",
    "    datetime_date = datetime_date + datetime.timedelta(hours=1)\n",
    "    return datetime_date"
   ],
   "metadata": {
    "collapsed": false,
    "ExecuteTime": {
     "end_time": "2024-02-05T02:31:02.257035600Z",
     "start_time": "2024-02-05T02:31:02.218494200Z"
    }
   },
   "id": "755a9115f507a083"
  },
  {
   "cell_type": "markdown",
   "source": [
    "Sprawdzenie procentu brakujących wartości w kolumnach z ecg, abp oraz fv"
   ],
   "metadata": {
    "collapsed": false
   },
   "id": "8b386b8200461737"
  },
  {
   "cell_type": "code",
   "execution_count": 9,
   "outputs": [
    {
     "data": {
      "text/plain": "                                                           10  \\\n10_breaths                                                 {}   \n15_breaths  {'abp_arm': 1.52, 'ekg': 0.03, 'fv_r': 38.61, ...   \n6_breaths                                                  {}   \nbaseline                                    {'abp_arm': 3.23}   \n\n                           11  \\\n10_breaths  {'abp_arm': 0.79}   \n15_breaths                 {}   \n6_breaths                  {}   \nbaseline                   {}   \n\n                                                           12  \\\n10_breaths  {'abp_arm': 0.91, 'ekg': 0.08, 'fv_r': 0.08, '...   \n15_breaths                       {'fv_r': 0.33, 'fv_l': 0.12}   \n6_breaths                                      {'fv_r': 0.13}   \nbaseline                                    {'abp_arm': 1.77}   \n\n                           13  \\\n10_breaths  {'abp_arm': 1.12}   \n15_breaths                 {}   \n6_breaths                  {}   \nbaseline    {'abp_arm': 0.79}   \n\n                                                           14  \\\n10_breaths                                                 {}   \n15_breaths  {'abp_arm': 0.11, 'ekg': 0.11, 'fv_r': 0.11, '...   \n6_breaths                                                  {}   \nbaseline                                    {'abp_arm': 2.44}   \n\n                           15                 16                 17  \\\n10_breaths                 {}  {'abp_arm': 1.03}                 {}   \n15_breaths                 {}                 {}  {'abp_arm': 1.36}   \n6_breaths      {'fv_r': 0.29}                 {}                 {}   \nbaseline    {'abp_arm': 0.58}   {'abp_arm': 1.1}  {'abp_arm': 1.91}   \n\n                                                           18  \\\n10_breaths                                                 {}   \n15_breaths                                                 {}   \n6_breaths                                                  {}   \nbaseline    {'abp_arm': 0.16, 'ekg': 0.16, 'fv_r': 0.16, '...   \n\n                           19  ...  \\\n10_breaths                 {}  ...   \n15_breaths                 {}  ...   \n6_breaths                  {}  ...   \nbaseline    {'abp_arm': 0.85}  ...   \n\n                                                           52  \\\n10_breaths                                                 {}   \n15_breaths                                                 {}   \n6_breaths                                                  {}   \nbaseline    {'abp_arm': 0.11, 'ekg': 0.11, 'fv_r': 0.11, '...   \n\n                                                           53  \\\n10_breaths                                                 {}   \n15_breaths                                                 {}   \n6_breaths                                                  {}   \nbaseline    {'abp_arm': 0.12, 'ekg': 0.12, 'fv_r': 0.12, '...   \n\n                                                           54  \\\n10_breaths                                                 {}   \n15_breaths                                                 {}   \n6_breaths   {'abp_arm': 0.07, 'ekg': 0.07, 'fv_r': 0.07, '...   \nbaseline                                                   {}   \n\n                                                           55  \\\n10_breaths  {'abp_arm': 0.2, 'ekg': 0.2, 'fv_r': 0.2, 'fv_...   \n15_breaths                                                 {}   \n6_breaths                                                  {}   \nbaseline                                                   {}   \n\n                                                           56  \\\n10_breaths                                                 {}   \n15_breaths                                                 {}   \n6_breaths   {'abp_arm': 0.04, 'ekg': 0.04, 'fv_r': 0.04, '...   \nbaseline    {'abp_arm': 0.02, 'ekg': 0.02, 'fv_r': 0.02, '...   \n\n                            5                                              6  \\\n10_breaths                 {}                                             {}   \n15_breaths                 {}                                             {}   \n6_breaths   {'abp_arm': 2.12}                                             {}   \nbaseline         {'ekg': 0.0}  {'abp_arm': 3.29, 'fv_r': 0.43, 'fv_l': 0.47}   \n\n                            7                8  \\\n10_breaths                 {}               {}   \n15_breaths                 {}               {}   \n6_breaths        {'ekg': 0.0}               {}   \nbaseline    {'abp_arm': 0.71}  {'fv_r': 53.27}   \n\n                                                            9  \n10_breaths                                                 {}  \n15_breaths                                                 {}  \n6_breaths                                                  {}  \nbaseline    {'abp_arm': 0.22, 'ekg': 0.22, 'fv_r': 0.22, '...  \n\n[4 rows x 56 columns]",
      "text/html": "<div>\n<style scoped>\n    .dataframe tbody tr th:only-of-type {\n        vertical-align: middle;\n    }\n\n    .dataframe tbody tr th {\n        vertical-align: top;\n    }\n\n    .dataframe thead th {\n        text-align: right;\n    }\n</style>\n<table border=\"1\" class=\"dataframe\">\n  <thead>\n    <tr style=\"text-align: right;\">\n      <th></th>\n      <th>10</th>\n      <th>11</th>\n      <th>12</th>\n      <th>13</th>\n      <th>14</th>\n      <th>15</th>\n      <th>16</th>\n      <th>17</th>\n      <th>18</th>\n      <th>19</th>\n      <th>...</th>\n      <th>52</th>\n      <th>53</th>\n      <th>54</th>\n      <th>55</th>\n      <th>56</th>\n      <th>5</th>\n      <th>6</th>\n      <th>7</th>\n      <th>8</th>\n      <th>9</th>\n    </tr>\n  </thead>\n  <tbody>\n    <tr>\n      <th>10_breaths</th>\n      <td>{}</td>\n      <td>{'abp_arm': 0.79}</td>\n      <td>{'abp_arm': 0.91, 'ekg': 0.08, 'fv_r': 0.08, '...</td>\n      <td>{'abp_arm': 1.12}</td>\n      <td>{}</td>\n      <td>{}</td>\n      <td>{'abp_arm': 1.03}</td>\n      <td>{}</td>\n      <td>{}</td>\n      <td>{}</td>\n      <td>...</td>\n      <td>{}</td>\n      <td>{}</td>\n      <td>{}</td>\n      <td>{'abp_arm': 0.2, 'ekg': 0.2, 'fv_r': 0.2, 'fv_...</td>\n      <td>{}</td>\n      <td>{}</td>\n      <td>{}</td>\n      <td>{}</td>\n      <td>{}</td>\n      <td>{}</td>\n    </tr>\n    <tr>\n      <th>15_breaths</th>\n      <td>{'abp_arm': 1.52, 'ekg': 0.03, 'fv_r': 38.61, ...</td>\n      <td>{}</td>\n      <td>{'fv_r': 0.33, 'fv_l': 0.12}</td>\n      <td>{}</td>\n      <td>{'abp_arm': 0.11, 'ekg': 0.11, 'fv_r': 0.11, '...</td>\n      <td>{}</td>\n      <td>{}</td>\n      <td>{'abp_arm': 1.36}</td>\n      <td>{}</td>\n      <td>{}</td>\n      <td>...</td>\n      <td>{}</td>\n      <td>{}</td>\n      <td>{}</td>\n      <td>{}</td>\n      <td>{}</td>\n      <td>{}</td>\n      <td>{}</td>\n      <td>{}</td>\n      <td>{}</td>\n      <td>{}</td>\n    </tr>\n    <tr>\n      <th>6_breaths</th>\n      <td>{}</td>\n      <td>{}</td>\n      <td>{'fv_r': 0.13}</td>\n      <td>{}</td>\n      <td>{}</td>\n      <td>{'fv_r': 0.29}</td>\n      <td>{}</td>\n      <td>{}</td>\n      <td>{}</td>\n      <td>{}</td>\n      <td>...</td>\n      <td>{}</td>\n      <td>{}</td>\n      <td>{'abp_arm': 0.07, 'ekg': 0.07, 'fv_r': 0.07, '...</td>\n      <td>{}</td>\n      <td>{'abp_arm': 0.04, 'ekg': 0.04, 'fv_r': 0.04, '...</td>\n      <td>{'abp_arm': 2.12}</td>\n      <td>{}</td>\n      <td>{'ekg': 0.0}</td>\n      <td>{}</td>\n      <td>{}</td>\n    </tr>\n    <tr>\n      <th>baseline</th>\n      <td>{'abp_arm': 3.23}</td>\n      <td>{}</td>\n      <td>{'abp_arm': 1.77}</td>\n      <td>{'abp_arm': 0.79}</td>\n      <td>{'abp_arm': 2.44}</td>\n      <td>{'abp_arm': 0.58}</td>\n      <td>{'abp_arm': 1.1}</td>\n      <td>{'abp_arm': 1.91}</td>\n      <td>{'abp_arm': 0.16, 'ekg': 0.16, 'fv_r': 0.16, '...</td>\n      <td>{'abp_arm': 0.85}</td>\n      <td>...</td>\n      <td>{'abp_arm': 0.11, 'ekg': 0.11, 'fv_r': 0.11, '...</td>\n      <td>{'abp_arm': 0.12, 'ekg': 0.12, 'fv_r': 0.12, '...</td>\n      <td>{}</td>\n      <td>{}</td>\n      <td>{'abp_arm': 0.02, 'ekg': 0.02, 'fv_r': 0.02, '...</td>\n      <td>{'ekg': 0.0}</td>\n      <td>{'abp_arm': 3.29, 'fv_r': 0.43, 'fv_l': 0.47}</td>\n      <td>{'abp_arm': 0.71}</td>\n      <td>{'fv_r': 53.27}</td>\n      <td>{'abp_arm': 0.22, 'ekg': 0.22, 'fv_r': 0.22, '...</td>\n    </tr>\n  </tbody>\n</table>\n<p>4 rows × 56 columns</p>\n</div>"
     },
     "execution_count": 9,
     "metadata": {},
     "output_type": "execute_result"
    }
   ],
   "source": [
    "nan_dict = {breath_freq : {} for breath_freq in breathing_dict}\n",
    "for breath_freq in breathing_dict:\n",
    "    for df_name, df in breathing_dict[breath_freq].items():\n",
    "        nan_dict[breath_freq][df_name] = {}\n",
    "        for col in ['abp_arm', 'ekg', 'fv_r', 'fv_l']:\n",
    "           nan_percent = df[col].isnull().sum() * 100 / len(df)\n",
    "           if nan_percent != 0.0:\n",
    "               nan_dict[breath_freq][df_name][col] = round(nan_percent, 2)\n",
    "nan_df = pd.DataFrame(nan_dict).T\n",
    "nan_df"
   ],
   "metadata": {
    "collapsed": false,
    "ExecuteTime": {
     "end_time": "2024-02-05T02:31:08.388631400Z",
     "start_time": "2024-02-05T02:31:08.017834600Z"
    }
   },
   "id": "12bf27ead385850"
  },
  {
   "cell_type": "markdown",
   "source": [
    "Dodanie kolumny z datą i godziną do każdego dataframe i wypełnienie braków danych (NaN) wartościami średnimi"
   ],
   "metadata": {
    "collapsed": false
   },
   "id": "2ae9c36f7422a737"
  },
  {
   "cell_type": "code",
   "execution_count": 10,
   "outputs": [],
   "source": [
    "for breath_freq in breathing_dict:\n",
    "    for df_name, df in breathing_dict[breath_freq].items():\n",
    "               df['DateFormat'] = df['DateTime'].map(icmp_dateformat_to_datetime)\n",
    "               df.fillna(df.mean(), inplace=True)"
   ],
   "metadata": {
    "collapsed": false,
    "ExecuteTime": {
     "end_time": "2024-02-05T02:31:54.691760300Z",
     "start_time": "2024-02-05T02:31:13.611732200Z"
    }
   },
   "id": "eddbc130ab38b435"
  },
  {
   "cell_type": "markdown",
   "source": [
    "Funkcja znajdująca piki, diff to jest RR w przypadku ECG tylko trzeba je przemnożyć przez 0.005 (1/(200 Hz)), peaks to numery próbek odpowiadających pikom, signal[peaks] to wartości sygnału odpowiadające tym numerom próbek"
   ],
   "metadata": {
    "collapsed": false
   },
   "id": "bed589386ec74b8"
  },
  {
   "cell_type": "code",
   "execution_count": 11,
   "outputs": [],
   "source": [
    "def get_peaks(signal):\n",
    "    dist = 115\n",
    "    peaks, _ = find_peaks(signal, distance=dist)\n",
    "    difference = np.diff(peaks)  \n",
    "    return peaks, signal[peaks], difference"
   ],
   "metadata": {
    "collapsed": false,
    "ExecuteTime": {
     "end_time": "2024-02-05T02:32:30.622908500Z",
     "start_time": "2024-02-05T02:32:30.588706Z"
    }
   },
   "id": "34ca7bfc8fc6b549"
  },
  {
   "cell_type": "markdown",
   "source": [
    "Wyrysowanie 600 pierwszych próbek każdego sygnału z zaznaczonymi znalezionymi pikami (\"x\")"
   ],
   "metadata": {
    "collapsed": false
   },
   "id": "18427c456e0d3403"
  },
  {
   "cell_type": "code",
   "execution_count": 15,
   "outputs": [],
   "source": [
    "folder_path = \"C:\\\\Users\\\\48503\\\\Desktop\\\\joint_symbolic\\\\timeseries_plots2\"\n",
    "for breath_freq in breathing_dict:\n",
    "    for df_name, df in breathing_dict[breath_freq].items():       \n",
    "        fig, ax = plt.subplots(4, 1, tight_layout = True, figsize=(16, 32)) \n",
    "        for i, col in enumerate(['abp_arm', 'ekg', 'fv_l', 'fv_r']):\n",
    "           x = df[col].iloc[:600]\n",
    "           ax[i].plot(x)\n",
    "           my_peaks = get_peaks(x)\n",
    "           ax[i].plot(my_peaks[0], my_peaks[1], \"x\")\n",
    "           ax[i].set_ylabel(f'{col}', fontsize=25)\n",
    "           ax[i].tick_params(axis='both', labelsize=18)\n",
    "           ax[i].grid(True)\n",
    "        ax[3].set_xlabel(\"nr probki\", fontsize = 28)\n",
    "        path = folder_path+f\"\\\\{breath_freq}\\\\{df_name}_plot.pdf\"\n",
    "        plt.savefig(path, bbox_inches='tight', dpi=600)\n",
    "        plt.show()\n",
    "        plt.close()"
   ],
   "metadata": {
    "collapsed": false,
    "ExecuteTime": {
     "end_time": "2024-02-05T02:44:27.578257600Z",
     "start_time": "2024-02-05T02:42:08.438593500Z"
    }
   },
   "id": "6e2898e68dd410cf"
  },
  {
   "cell_type": "code",
   "execution_count": 54,
   "outputs": [],
   "source": [
    "N_PATIENTS = 15"
   ],
   "metadata": {
    "collapsed": false,
    "ExecuteTime": {
     "end_time": "2024-01-22T03:17:11.233965200Z",
     "start_time": "2024-01-22T03:17:11.208513400Z"
    }
   },
   "id": "f2c2839cf1487816"
  },
  {
   "cell_type": "code",
   "execution_count": 89,
   "outputs": [],
   "source": [
    "to_delete = [\"2\", \"6\", \"33\", \"14\", \"31\"]\n",
    "for breath_freq in breathing_dict:\n",
    "    for key_to_delete in to_delete:\n",
    "        breathing_dict[breath_freq].pop(key_to_delete, None)"
   ],
   "metadata": {
    "collapsed": false,
    "ExecuteTime": {
     "end_time": "2024-02-14T07:03:12.425362100Z",
     "start_time": "2024-02-14T07:03:12.389052500Z"
    }
   },
   "id": "80ed958c046a7b74"
  },
  {
   "cell_type": "code",
   "execution_count": 77,
   "outputs": [],
   "source": [
    "def make_empty_matrix():\n",
    "    MY_PERMUTATIONS = [''.join(map(str, item)) for item in list((itertools.product([1, 0], repeat=3)))]\n",
    "    my_matrix = pd.DataFrame()\n",
    "    for col1 in MY_PERMUTATIONS: \n",
    "       for col2 in MY_PERMUTATIONS:\n",
    "            my_matrix.at[\"'\"+col1, \"'\"+col2] = 0\n",
    "    return my_matrix"
   ],
   "metadata": {
    "collapsed": false,
    "ExecuteTime": {
     "end_time": "2024-02-05T09:49:35.282141600Z",
     "start_time": "2024-02-05T09:49:35.248160600Z"
    }
   },
   "id": "c3c5d37c5889b8a8"
  },
  {
   "cell_type": "code",
   "execution_count": 57,
   "outputs": [],
   "source": [
    "def get_diff_df(dataframe, is_fv, is_left):\n",
    "    sap = get_peaks(dataframe['abp_arm'])[1]\n",
    "    if is_fv:\n",
    "        sap = get_peaks(dataframe['fv_l'])[1]\n",
    "        if not is_left:\n",
    "            sap = get_peaks(dataframe['fv_r'])[1]\n",
    "    rr = get_peaks(dataframe['ekg'])[2]*0.005\n",
    "    sap_diff = np.diff(sap)\n",
    "    rr_diff = np.diff(rr)\n",
    "    diff_dataframe = pd.DataFrame(list(zip(sap_diff, rr_diff)), columns=['sap_diff', 'rr_diff'])\n",
    "    return diff_dataframe"
   ],
   "metadata": {
    "collapsed": false,
    "ExecuteTime": {
     "end_time": "2024-02-05T09:08:50.573832300Z",
     "start_time": "2024-02-05T09:08:50.564825800Z"
    }
   },
   "id": "d68c0791626f7d52"
  },
  {
   "cell_type": "code",
   "execution_count": 96,
   "outputs": [],
   "source": [
    "def make_and_save_heatmap(relative_array, breath_frequency, is_fv):\n",
    "    my_custom_palette = sns.color_palette(\"ch:-.24\", as_cmap=True)\n",
    "    heatmap_path = f\"C:\\\\Users\\\\48503\\\\Desktop\\\\joint_symbolic\\\\heatmaps\\\\\"\n",
    "    my_heatmap = sns.heatmap(relative_array,cmap = my_custom_palette, annot=True)\n",
    "    my_heatmap.xaxis.tick_top()\n",
    "    my_heatmap.xaxis.set_ticks_position('none')\n",
    "    fontsize = 10\n",
    "    plt.xlabel('SAP', fontsize = fontsize) \n",
    "    my_heatmap.xaxis.set_label_position('top') \n",
    "    plt.ylabel('RR', fontsize = fontsize) \n",
    "    if is_fv:\n",
    "        plt.savefig(heatmap_path+f\"new_{breath_frequency}_heatmap_fv.pdf\", bbox_inches='tight', dpi=600)\n",
    "        relative_array.to_csv(heatmap_path+f\"new_{breath_frequency}_matrix_fv.csv\")\n",
    "    else:\n",
    "        plt.savefig(heatmap_path+f\"new_{breath_frequency}_heatmap_abp.pdf\", bbox_inches='tight', dpi=600)\n",
    "        relative_array.to_csv(heatmap_path+f\"new_{breath_frequency}_matrix_abp.csv\")\n",
    "    plt.show()\n",
    "    plt.close()"
   ],
   "metadata": {
    "collapsed": false,
    "ExecuteTime": {
     "end_time": "2024-02-14T07:05:05.016363900Z",
     "start_time": "2024-02-14T07:05:04.984329600Z"
    }
   },
   "id": "35b003b09ae81c1c"
  },
  {
   "cell_type": "code",
   "execution_count": 114,
   "outputs": [
    {
     "name": "stdout",
     "output_type": "stream",
     "text": [
      "False\n"
     ]
    }
   ],
   "source": [
    "metadata = pd.read_csv(\"C:\\\\Users\\\\48503\\\\Desktop\\\\joint_symbolic\\\\dane_sonata\\\\dane_sonata.csv\", sep = \";\")\n",
    "print(bool(metadata.at[metadata.loc[metadata['L.poj.'] == int(\"11\")].index[0], 'FV_LEWA_MCA']))"
   ],
   "metadata": {
    "collapsed": false,
    "ExecuteTime": {
     "end_time": "2024-02-14T07:16:28.700516200Z",
     "start_time": "2024-02-14T07:16:28.680665300Z"
    }
   },
   "id": "8492961c579d4853"
  },
  {
   "cell_type": "code",
   "execution_count": 117,
   "outputs": [],
   "source": [
    "def joint_symbolic(data_dict, is_fv):\n",
    "    jsd_sym_dict, jsd_diam_dict = {freq:{} for freq in data_dict},{freq:{} for freq in data_dict}\n",
    "    metadata = pd.read_csv(\"C:\\\\Users\\\\48503\\\\Desktop\\\\joint_symbolic\\\\dane_sonata\\\\dane_sonata.csv\", sep = \";\")\n",
    "    for freq in data_dict:\n",
    "        freq_matrix = make_empty_matrix()\n",
    "        for patient_number, dataframe in data_dict[freq].items():\n",
    "            is_left = True\n",
    "            if is_fv:\n",
    "                is_left = bool(metadata.at[metadata.loc[metadata['L.poj.'] == int(patient_number)].index[0], 'FV_LEWA_MCA'])\n",
    "            patient_freq_matrix = make_empty_matrix()\n",
    "            diff_df = get_diff_df(dataframe, is_fv, is_left)\n",
    "            \n",
    "            for col_name in ['sap_diff', 'rr_diff']:\n",
    "                diff_df[f'{col_name}_binary'] = diff_df.apply(lambda df_row: 1 if df_row[col_name] > 0 else 0, axis = 1)\n",
    "            \n",
    "            for index in range(0, len(diff_df)):\n",
    "                binary_sap =  ''.join(diff_df['sap_diff_binary'].iloc[index:index+3].astype(str))\n",
    "                binary_rr =  ''.join(diff_df['rr_diff_binary'].iloc[index:index+3].astype(str))\n",
    "                if len(binary_rr) > 2 and len(binary_sap) > 2:\n",
    "                     freq_matrix.at[\"'\"+binary_rr, \"'\"+binary_sap] += 1\n",
    "                     patient_freq_matrix.at[\"'\"+binary_rr, \"'\"+binary_sap] += 1 \n",
    "            \n",
    "            relative_patient_matrix = patient_freq_matrix.div(np.sum(patient_freq_matrix.values))   \n",
    "            jsd_sym_dict[freq][patient_number] = np.sum(np.diag(relative_patient_matrix))\n",
    "            jsd_diam_dict[freq][patient_number] = np.sum(np.diag(np.rot90(relative_patient_matrix)))\n",
    "            \n",
    "        relative_freq_matrix = freq_matrix.div(np.sum(freq_matrix.values))        \n",
    "        make_and_save_heatmap(relative_freq_matrix, freq, is_fv)\n",
    "        \n",
    "    jsd_path = \"C:\\\\Users\\\\48503\\\\Desktop\\\\joint_symbolic\\\\jsd\\\\\"\n",
    "    if is_fv:\n",
    "        pd.DataFrame(jsd_sym_dict).to_csv(jsd_path+\"new_jsd_sym_fv.csv\")\n",
    "        pd.DataFrame(jsd_diam_dict).to_csv(jsd_path+\"new_jsd_diam_fv.csv\")\n",
    "    else:    \n",
    "        pd.DataFrame(jsd_sym_dict).to_csv(jsd_path+\"new_jsd_sym_abp.csv\")\n",
    "        pd.DataFrame(jsd_diam_dict).to_csv(jsd_path+\"new_jsd_diam_abp.csv\")"
   ],
   "metadata": {
    "collapsed": false,
    "ExecuteTime": {
     "end_time": "2024-02-14T07:17:20.024427500Z",
     "start_time": "2024-02-14T07:17:20.011407900Z"
    }
   },
   "id": "f26ca0b6637722ee"
  },
  {
   "cell_type": "markdown",
   "source": [
    "rr-sap"
   ],
   "metadata": {
    "collapsed": false
   },
   "id": "5585f222a8a2b813"
  },
  {
   "cell_type": "code",
   "execution_count": 98,
   "outputs": [],
   "source": [
    "joint_symbolic(breathing_dict, False)"
   ],
   "metadata": {
    "collapsed": false,
    "ExecuteTime": {
     "end_time": "2024-02-14T07:05:38.153977200Z",
     "start_time": "2024-02-14T07:05:17.046735100Z"
    }
   },
   "id": "8b57907659ac3fda"
  },
  {
   "cell_type": "markdown",
   "source": [
    "fv"
   ],
   "metadata": {
    "collapsed": false
   },
   "id": "75d764e71073eedc"
  },
  {
   "cell_type": "code",
   "execution_count": 118,
   "outputs": [],
   "source": [
    "joint_symbolic(breathing_dict, True)"
   ],
   "metadata": {
    "collapsed": false,
    "ExecuteTime": {
     "end_time": "2024-02-14T07:17:43.398178800Z",
     "start_time": "2024-02-14T07:17:22.637406200Z"
    }
   },
   "id": "dfe7db883c4d4122"
  },
  {
   "cell_type": "code",
   "execution_count": 121,
   "outputs": [
    {
     "name": "stderr",
     "output_type": "stream",
     "text": [
      "C:\\Users\\48503\\AppData\\Local\\Temp\\ipykernel_29284\\3815901313.py:10: FutureWarning: The behavior of DataFrame concatenation with empty or all-NA entries is deprecated. In a future version, this will no longer exclude empty or all-NA columns when determining the result dtypes. To retain the old behavior, exclude the relevant entries before the concat operation.\n",
      "  new_df = pd.concat([new_df, pd.DataFrame({'RR': [idx], 'SAP': [col], 'relative frequency': [df.at[idx, col]]})], ignore_index=True)\n",
      "C:\\Users\\48503\\AppData\\Local\\Temp\\ipykernel_29284\\3815901313.py:10: FutureWarning: The behavior of DataFrame concatenation with empty or all-NA entries is deprecated. In a future version, this will no longer exclude empty or all-NA columns when determining the result dtypes. To retain the old behavior, exclude the relevant entries before the concat operation.\n",
      "  new_df = pd.concat([new_df, pd.DataFrame({'RR': [idx], 'SAP': [col], 'relative frequency': [df.at[idx, col]]})], ignore_index=True)\n",
      "C:\\Users\\48503\\AppData\\Local\\Temp\\ipykernel_29284\\3815901313.py:10: FutureWarning: The behavior of DataFrame concatenation with empty or all-NA entries is deprecated. In a future version, this will no longer exclude empty or all-NA columns when determining the result dtypes. To retain the old behavior, exclude the relevant entries before the concat operation.\n",
      "  new_df = pd.concat([new_df, pd.DataFrame({'RR': [idx], 'SAP': [col], 'relative frequency': [df.at[idx, col]]})], ignore_index=True)\n",
      "C:\\Users\\48503\\AppData\\Local\\Temp\\ipykernel_29284\\3815901313.py:10: FutureWarning: The behavior of DataFrame concatenation with empty or all-NA entries is deprecated. In a future version, this will no longer exclude empty or all-NA columns when determining the result dtypes. To retain the old behavior, exclude the relevant entries before the concat operation.\n",
      "  new_df = pd.concat([new_df, pd.DataFrame({'RR': [idx], 'SAP': [col], 'relative frequency': [df.at[idx, col]]})], ignore_index=True)\n",
      "C:\\Users\\48503\\AppData\\Local\\Temp\\ipykernel_29284\\3815901313.py:10: FutureWarning: The behavior of DataFrame concatenation with empty or all-NA entries is deprecated. In a future version, this will no longer exclude empty or all-NA columns when determining the result dtypes. To retain the old behavior, exclude the relevant entries before the concat operation.\n",
      "  new_df = pd.concat([new_df, pd.DataFrame({'RR': [idx], 'SAP': [col], 'relative frequency': [df.at[idx, col]]})], ignore_index=True)\n",
      "C:\\Users\\48503\\AppData\\Local\\Temp\\ipykernel_29284\\3815901313.py:10: FutureWarning: The behavior of DataFrame concatenation with empty or all-NA entries is deprecated. In a future version, this will no longer exclude empty or all-NA columns when determining the result dtypes. To retain the old behavior, exclude the relevant entries before the concat operation.\n",
      "  new_df = pd.concat([new_df, pd.DataFrame({'RR': [idx], 'SAP': [col], 'relative frequency': [df.at[idx, col]]})], ignore_index=True)\n",
      "C:\\Users\\48503\\AppData\\Local\\Temp\\ipykernel_29284\\3815901313.py:10: FutureWarning: The behavior of DataFrame concatenation with empty or all-NA entries is deprecated. In a future version, this will no longer exclude empty or all-NA columns when determining the result dtypes. To retain the old behavior, exclude the relevant entries before the concat operation.\n",
      "  new_df = pd.concat([new_df, pd.DataFrame({'RR': [idx], 'SAP': [col], 'relative frequency': [df.at[idx, col]]})], ignore_index=True)\n",
      "C:\\Users\\48503\\AppData\\Local\\Temp\\ipykernel_29284\\3815901313.py:10: FutureWarning: The behavior of DataFrame concatenation with empty or all-NA entries is deprecated. In a future version, this will no longer exclude empty or all-NA columns when determining the result dtypes. To retain the old behavior, exclude the relevant entries before the concat operation.\n",
      "  new_df = pd.concat([new_df, pd.DataFrame({'RR': [idx], 'SAP': [col], 'relative frequency': [df.at[idx, col]]})], ignore_index=True)\n"
     ]
    }
   ],
   "source": [
    "path = \"C:\\\\Users\\\\48503\\\\Desktop\\\\joint_symbolic\\\\heatmaps\"\n",
    "save_path = path+\"\\\\transformed\"\n",
    "for file_name in os.listdir(path):\n",
    "   if file_name.endswith('.csv'):\n",
    "      df = pd.read_csv(path+f\"\\\\{file_name}\", index_col='Unnamed: 0')\n",
    "      new_df = pd.DataFrame(columns=['RR', 'SAP', 'relative frequency'])\n",
    "\n",
    "      for idx in df.index:\n",
    "         for col in df.columns:\n",
    "            new_df = pd.concat([new_df, pd.DataFrame({'RR': [idx], 'SAP': [col], 'relative frequency': [df.at[idx, col]]})], ignore_index=True)\n",
    "      new_df.to_csv(save_path+\"\\\\\"+file_name, index=False)"
   ],
   "metadata": {
    "collapsed": false,
    "ExecuteTime": {
     "end_time": "2024-02-14T07:25:43.755105100Z",
     "start_time": "2024-02-14T07:25:43.555923Z"
    }
   },
   "id": "4981ca2cf4c997ab"
  },
  {
   "cell_type": "code",
   "execution_count": null,
   "outputs": [],
   "source": [],
   "metadata": {
    "collapsed": false
   },
   "id": "9acf1cef584e4a2e"
  }
 ],
 "metadata": {
  "kernelspec": {
   "display_name": "Python 3",
   "language": "python",
   "name": "python3"
  },
  "language_info": {
   "codemirror_mode": {
    "name": "ipython",
    "version": 2
   },
   "file_extension": ".py",
   "mimetype": "text/x-python",
   "name": "python",
   "nbconvert_exporter": "python",
   "pygments_lexer": "ipython2",
   "version": "2.7.6"
  }
 },
 "nbformat": 4,
 "nbformat_minor": 5
}
