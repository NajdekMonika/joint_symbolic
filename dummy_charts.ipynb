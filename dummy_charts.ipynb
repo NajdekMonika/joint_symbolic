{
 "cells": [
  {
   "cell_type": "code",
   "execution_count": 3,
   "outputs": [],
   "source": [
    "import matplotlib.pyplot as plt\n",
    "plt.style.use('seaborn-v0_8-ticks')\n",
    "%matplotlib qt"
   ],
   "metadata": {
    "collapsed": false,
    "ExecuteTime": {
     "end_time": "2024-02-22T11:08:35.356413700Z",
     "start_time": "2024-02-22T11:08:35.271469900Z"
    }
   },
   "id": "84ea6469bf4b8fbd"
  },
  {
   "cell_type": "code",
   "execution_count": 56,
   "outputs": [],
   "source": [
    "plt.figure(figsize=(40, 7))\n",
    "\n",
    "plt.xlim(50, 6300) #5300\n",
    "plt.ylim(40, 180)  #150\n",
    "plt.xlabel('t [ms]', fontsize=35)\n",
    "plt.ylabel('ABP [mmHg]', fontsize=35)\n",
    "plt.tick_params(axis='both', labelsize=27)\n",
    "savefig_path = \"C:\\\\Users\\\\48503\\\\Desktop\\\\joint_symbolic\\\\do_obrazka\\\\abp_osie.png\"\n",
    "plt.savefig(savefig_path, bbox_inches='tight', dpi=600)\n",
    "plt.show()\n",
    "plt.close()"
   ],
   "metadata": {
    "collapsed": false,
    "ExecuteTime": {
     "end_time": "2024-02-23T22:51:38.830644Z",
     "start_time": "2024-02-23T22:51:36.749780900Z"
    }
   },
   "id": "initial_id"
  },
  {
   "cell_type": "code",
   "execution_count": 32,
   "outputs": [],
   "source": [
    "plt.figure(figsize=(25, 6))\n",
    "\n",
    "plt.xlim(50, 5300)\n",
    "plt.ylim(-1, 2)\n",
    "# plt.xlabel('t [ms]')\n",
    "# plt.ylabel('EKG')\n",
    "plt.tick_params(axis='both', labelsize=24)\n",
    "savefig_path = \"C:\\\\Users\\\\48503\\\\Desktop\\\\joint_symbolic\\\\do_obrazka\\\\ekg_osie.png\"\n",
    "plt.savefig(savefig_path, bbox_inches='tight', dpi=600)\n",
    "plt.show()\n",
    "plt.close()"
   ],
   "metadata": {
    "collapsed": false,
    "ExecuteTime": {
     "end_time": "2024-02-22T12:29:28.385534300Z",
     "start_time": "2024-02-22T12:29:25.992899200Z"
    }
   },
   "id": "dd413afc836ef6d0"
  },
  {
   "cell_type": "code",
   "execution_count": null,
   "outputs": [],
   "source": [],
   "metadata": {
    "collapsed": false
   },
   "id": "fbfeab0d98f7305c"
  }
 ],
 "metadata": {
  "kernelspec": {
   "display_name": "Python 3",
   "language": "python",
   "name": "python3"
  },
  "language_info": {
   "codemirror_mode": {
    "name": "ipython",
    "version": 2
   },
   "file_extension": ".py",
   "mimetype": "text/x-python",
   "name": "python",
   "nbconvert_exporter": "python",
   "pygments_lexer": "ipython2",
   "version": "2.7.6"
  }
 },
 "nbformat": 4,
 "nbformat_minor": 5
}
